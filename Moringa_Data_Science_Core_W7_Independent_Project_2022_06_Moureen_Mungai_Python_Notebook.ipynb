{
  "nbformat": 4,
  "nbformat_minor": 0,
  "metadata": {
    "colab": {
      "name": "Moringa_Data_Science_Core_W7_Independent_Project_2022_06_Moureen_Mungai_Python_Notebook.ipynb",
      "provenance": [],
      "collapsed_sections": [],
      "include_colab_link": true
    },
    "kernelspec": {
      "display_name": "Python 3",
      "name": "python3"
    },
    "language_info": {
      "name": "python"
    }
  },
  "cells": [
    {
      "cell_type": "markdown",
      "metadata": {
        "id": "view-in-github",
        "colab_type": "text"
      },
      "source": [
        "<a href=\"https://colab.research.google.com/github/mungaimoureen/Housing-Prices-Predictions-week-7/blob/main/Moringa_Data_Science_Core_W7_Independent_Project_2022_06_Moureen_Mungai_Python_Notebook.ipynb\" target=\"_parent\"><img src=\"https://colab.research.google.com/assets/colab-badge.svg\" alt=\"Open In Colab\"/></a>"
      ]
    },
    {
      "cell_type": "markdown",
      "metadata": {
        "id": "e-1QDagamu_C"
      },
      "source": [
        "# House Prices predicton.\n",
        "\n"
      ]
    },
    {
      "cell_type": "markdown",
      "metadata": {
        "id": "cravlGLlPVH1"
      },
      "source": [
        "## Overview\n",
        "**i. Understanding the context**  \n",
        "Studying the factors that affect housing prices using given information on real estate properties that was collected over the past few months. Additionally, create a model that would allow the company to accurately predict the sale prices of the houses upon being provided with the predictor variables. \n",
        "\n",
        "**ii. Specifying the objectives**  \n",
        "The specific objectives of this project are:  \n",
        "> 1. To establish the relationship between the different housing aspects and sale prices.\n",
        "2. To create a model that will accurately  predict the prices of the houses upon being provided with the predictor variables.\n",
        "\n",
        "**iii. Defining the metric for success**  \n",
        "The project will be considered successful when at least one model has a RMSE that is less than 10% of the mean of the housing prices   \n",
        "\n",
        "**iv. Data relevance**  \n",
        "The appropriate dataset for this project is one that contains data on aspects of different houses including their prices. The dataset for this study is retrieved from http://bit.ly/IndependentProjectWeek7Dataset\n",
        "\n",
        "**v. Project design**  \n",
        "In order to work on the above problem, we need to do the following:\n",
        "\n",
        "a. Acquire the datasets with appropriate data for our project  \n",
        "b. Perform data cleaning by dropping irrelevant data, finding and dealing with duplicates, missing data, and anomalies   \n",
        "c. Perform descriptive analysis to gain insights on the given data\n",
        "d. Create linear regression, quantile regression, lasso regression, ridge regression and elastic net regression models that will work towards accomplishing our objective  \n",
        "e. Give conclusions and recommendations on the different models"
      ]
    },
    {
      "cell_type": "markdown",
      "metadata": {
        "id": "6iSBUkVeoQpk"
      },
      "source": [
        "## Importing libraries"
      ]
    },
    {
      "cell_type": "code",
      "metadata": {
        "id": "NNkpBZJkclWe"
      },
      "source": [
        "# import relevant libraries\n",
        "import pandas as pd\n",
        "import numpy as np\n",
        "import matplotlib.pyplot as plt\n",
        "% matplotlib inline\n",
        "import seaborn as sns"
      ],
      "execution_count": null,
      "outputs": []
    },
    {
      "cell_type": "code",
      "metadata": {
        "colab": {
          "base_uri": "https://localhost:8080/"
        },
        "id": "yyDi1wGCD4WS",
        "outputId": "7e84a4d4-dee1-4123-c948-5fc915b058fe"
      },
      "source": [
        "# disable future warnings by running this code\n",
        "import warnings\n",
        "warnings.simplefilter(action='ignore', category=FutureWarning)\n",
        "pd.reset_option('all')"
      ],
      "execution_count": null,
      "outputs": [
        {
          "output_type": "stream",
          "text": [
            "\n",
            ": boolean\n",
            "    use_inf_as_null had been deprecated and will be removed in a future\n",
            "    version. Use `use_inf_as_na` instead.\n",
            "\n"
          ],
          "name": "stdout"
        }
      ]
    },
    {
      "cell_type": "code",
      "metadata": {
        "id": "A0B8cniIQ0Dr"
      },
      "source": [
        "# set all float results to have only two decimal places\n",
        "pd.set_option('display.float_format', lambda x: '%.2f' % x)"
      ],
      "execution_count": null,
      "outputs": []
    },
    {
      "cell_type": "markdown",
      "metadata": {
        "id": "hN54rC9SoXA4"
      },
      "source": [
        "## Loading the dataset"
      ]
    },
    {
      "cell_type": "code",
      "metadata": {
        "id": "2Hjn3vYQcKsL"
      },
      "source": [
        "# load csv file with housing data from the given url\n",
        "hass = pd.read_csv('http://bit.ly/IndependentProjectWeek7Dataset')"
      ],
      "execution_count": null,
      "outputs": []
    },
    {
      "cell_type": "markdown",
      "metadata": {
        "id": "7fjmNQ3gpKqg"
      },
      "source": [
        "## Reading the dataset"
      ]
    },
    {
      "cell_type": "code",
      "metadata": {
        "colab": {
          "base_uri": "https://localhost:8080/",
          "height": 222
        },
        "id": "JBe8G744pPcx",
        "outputId": "e177a7ad-6cd2-4926-e745-4eabc11435f0"
      },
      "source": [
        "# preview the top 5 entries of the dataset\n",
        "hass.head(5)"
      ],
      "execution_count": null,
      "outputs": [
        {
          "output_type": "execute_result",
          "data": {
            "text/html": [
              "<div>\n",
              "<style scoped>\n",
              "    .dataframe tbody tr th:only-of-type {\n",
              "        vertical-align: middle;\n",
              "    }\n",
              "\n",
              "    .dataframe tbody tr th {\n",
              "        vertical-align: top;\n",
              "    }\n",
              "\n",
              "    .dataframe thead th {\n",
              "        text-align: right;\n",
              "    }\n",
              "</style>\n",
              "<table border=\"1\" class=\"dataframe\">\n",
              "  <thead>\n",
              "    <tr style=\"text-align: right;\">\n",
              "      <th></th>\n",
              "      <th>id</th>\n",
              "      <th>price</th>\n",
              "      <th>bedrooms</th>\n",
              "      <th>bathrooms</th>\n",
              "      <th>sqft_living</th>\n",
              "      <th>sqft_lot</th>\n",
              "      <th>floors</th>\n",
              "      <th>waterfront</th>\n",
              "      <th>view</th>\n",
              "      <th>condition</th>\n",
              "      <th>grade</th>\n",
              "      <th>sqft_above</th>\n",
              "      <th>sqft_basement</th>\n",
              "      <th>yr_built</th>\n",
              "      <th>yr_renovated</th>\n",
              "      <th>zipcode</th>\n",
              "      <th>lat</th>\n",
              "      <th>long</th>\n",
              "      <th>sqft_living15</th>\n",
              "      <th>sqft_lot15</th>\n",
              "    </tr>\n",
              "  </thead>\n",
              "  <tbody>\n",
              "    <tr>\n",
              "      <th>0</th>\n",
              "      <td>7129300520</td>\n",
              "      <td>221900.00</td>\n",
              "      <td>3</td>\n",
              "      <td>1.00</td>\n",
              "      <td>1180</td>\n",
              "      <td>5650</td>\n",
              "      <td>1.00</td>\n",
              "      <td>0</td>\n",
              "      <td>0</td>\n",
              "      <td>3</td>\n",
              "      <td>7</td>\n",
              "      <td>1180</td>\n",
              "      <td>0</td>\n",
              "      <td>1955</td>\n",
              "      <td>0</td>\n",
              "      <td>98178</td>\n",
              "      <td>47.51</td>\n",
              "      <td>-122.26</td>\n",
              "      <td>1340</td>\n",
              "      <td>5650</td>\n",
              "    </tr>\n",
              "    <tr>\n",
              "      <th>1</th>\n",
              "      <td>6414100192</td>\n",
              "      <td>538000.00</td>\n",
              "      <td>3</td>\n",
              "      <td>2.25</td>\n",
              "      <td>2570</td>\n",
              "      <td>7242</td>\n",
              "      <td>2.00</td>\n",
              "      <td>0</td>\n",
              "      <td>0</td>\n",
              "      <td>3</td>\n",
              "      <td>7</td>\n",
              "      <td>2170</td>\n",
              "      <td>400</td>\n",
              "      <td>1951</td>\n",
              "      <td>1991</td>\n",
              "      <td>98125</td>\n",
              "      <td>47.72</td>\n",
              "      <td>-122.32</td>\n",
              "      <td>1690</td>\n",
              "      <td>7639</td>\n",
              "    </tr>\n",
              "    <tr>\n",
              "      <th>2</th>\n",
              "      <td>5631500400</td>\n",
              "      <td>180000.00</td>\n",
              "      <td>2</td>\n",
              "      <td>1.00</td>\n",
              "      <td>770</td>\n",
              "      <td>10000</td>\n",
              "      <td>1.00</td>\n",
              "      <td>0</td>\n",
              "      <td>0</td>\n",
              "      <td>3</td>\n",
              "      <td>6</td>\n",
              "      <td>770</td>\n",
              "      <td>0</td>\n",
              "      <td>1933</td>\n",
              "      <td>0</td>\n",
              "      <td>98028</td>\n",
              "      <td>47.74</td>\n",
              "      <td>-122.23</td>\n",
              "      <td>2720</td>\n",
              "      <td>8062</td>\n",
              "    </tr>\n",
              "    <tr>\n",
              "      <th>3</th>\n",
              "      <td>2487200875</td>\n",
              "      <td>604000.00</td>\n",
              "      <td>4</td>\n",
              "      <td>3.00</td>\n",
              "      <td>1960</td>\n",
              "      <td>5000</td>\n",
              "      <td>1.00</td>\n",
              "      <td>0</td>\n",
              "      <td>0</td>\n",
              "      <td>5</td>\n",
              "      <td>7</td>\n",
              "      <td>1050</td>\n",
              "      <td>910</td>\n",
              "      <td>1965</td>\n",
              "      <td>0</td>\n",
              "      <td>98136</td>\n",
              "      <td>47.52</td>\n",
              "      <td>-122.39</td>\n",
              "      <td>1360</td>\n",
              "      <td>5000</td>\n",
              "    </tr>\n",
              "    <tr>\n",
              "      <th>4</th>\n",
              "      <td>1954400510</td>\n",
              "      <td>510000.00</td>\n",
              "      <td>3</td>\n",
              "      <td>2.00</td>\n",
              "      <td>1680</td>\n",
              "      <td>8080</td>\n",
              "      <td>1.00</td>\n",
              "      <td>0</td>\n",
              "      <td>0</td>\n",
              "      <td>3</td>\n",
              "      <td>8</td>\n",
              "      <td>1680</td>\n",
              "      <td>0</td>\n",
              "      <td>1987</td>\n",
              "      <td>0</td>\n",
              "      <td>98074</td>\n",
              "      <td>47.62</td>\n",
              "      <td>-122.05</td>\n",
              "      <td>1800</td>\n",
              "      <td>7503</td>\n",
              "    </tr>\n",
              "  </tbody>\n",
              "</table>\n",
              "</div>"
            ],
            "text/plain": [
              "           id     price  bedrooms  ...    long  sqft_living15  sqft_lot15\n",
              "0  7129300520 221900.00         3  ... -122.26           1340        5650\n",
              "1  6414100192 538000.00         3  ... -122.32           1690        7639\n",
              "2  5631500400 180000.00         2  ... -122.23           2720        8062\n",
              "3  2487200875 604000.00         4  ... -122.39           1360        5000\n",
              "4  1954400510 510000.00         3  ... -122.05           1800        7503\n",
              "\n",
              "[5 rows x 20 columns]"
            ]
          },
          "metadata": {
            "tags": []
          },
          "execution_count": 5
        }
      ]
    },
    {
      "cell_type": "code",
      "metadata": {
        "colab": {
          "base_uri": "https://localhost:8080/"
        },
        "id": "kH7GvWySOB4k",
        "outputId": "a8b4bd69-4a08-470e-c5c3-d38361cc196d"
      },
      "source": [
        "# check the general information about our dataset\n",
        "# the information includes the number of entries and columns, name and data type of each column, number of non-null values in every column, and the distribution of each data type\n",
        "hass.info()"
      ],
      "execution_count": null,
      "outputs": [
        {
          "output_type": "stream",
          "text": [
            "<class 'pandas.core.frame.DataFrame'>\n",
            "RangeIndex: 21613 entries, 0 to 21612\n",
            "Data columns (total 20 columns):\n",
            " #   Column         Non-Null Count  Dtype  \n",
            "---  ------         --------------  -----  \n",
            " 0   id             21613 non-null  int64  \n",
            " 1   price          21613 non-null  float64\n",
            " 2   bedrooms       21613 non-null  int64  \n",
            " 3   bathrooms      21613 non-null  float64\n",
            " 4   sqft_living    21613 non-null  int64  \n",
            " 5   sqft_lot       21613 non-null  int64  \n",
            " 6   floors         21613 non-null  float64\n",
            " 7   waterfront     21613 non-null  int64  \n",
            " 8   view           21613 non-null  int64  \n",
            " 9   condition      21613 non-null  int64  \n",
            " 10  grade          21613 non-null  int64  \n",
            " 11  sqft_above     21613 non-null  int64  \n",
            " 12  sqft_basement  21613 non-null  int64  \n",
            " 13  yr_built       21613 non-null  int64  \n",
            " 14  yr_renovated   21613 non-null  int64  \n",
            " 15  zipcode        21613 non-null  int64  \n",
            " 16  lat            21613 non-null  float64\n",
            " 17  long           21613 non-null  float64\n",
            " 18  sqft_living15  21613 non-null  int64  \n",
            " 19  sqft_lot15     21613 non-null  int64  \n",
            "dtypes: float64(5), int64(15)\n",
            "memory usage: 3.3 MB\n"
          ],
          "name": "stdout"
        }
      ]
    },
    {
      "cell_type": "markdown",
      "metadata": {
        "id": "Qh7gh8JkpO5v"
      },
      "source": [
        "## Data cleaning"
      ]
    },
    {
      "cell_type": "code",
      "metadata": {
        "colab": {
          "base_uri": "https://localhost:8080/"
        },
        "id": "pPWS8k3yOPVu",
        "outputId": "88c08e5a-1ba3-46d4-8464-fd44966413d2"
      },
      "source": [
        "# check for duplicates in the dataset\n",
        "print('Number of duplicates before cleaning: '+str(hass.duplicated().sum()))\n",
        "\n",
        "# drop duplicates\n",
        "hass = hass.drop_duplicates()\n",
        "\n",
        "# confirm that the duplicates have been dropped\n",
        "print('Number of duplicates after cleaning: ' +str(hass.duplicated().sum()))"
      ],
      "execution_count": null,
      "outputs": [
        {
          "output_type": "stream",
          "text": [
            "Number of duplicates before cleaning: 3\n",
            "Number of duplicates after cleaning: 0\n"
          ],
          "name": "stdout"
        }
      ]
    },
    {
      "cell_type": "code",
      "metadata": {
        "id": "pNpgNzGfQceR"
      },
      "source": [
        "# drop irrelevant columns\n",
        "hass.drop(['id', 'long', 'lat' ], axis=1, inplace=True)\n",
        "# we have dropped longitude and latitude columns since zipcode column  basically contains location data"
      ],
      "execution_count": null,
      "outputs": []
    },
    {
      "cell_type": "code",
      "metadata": {
        "colab": {
          "base_uri": "https://localhost:8080/"
        },
        "id": "d9OjlonvJ7cl",
        "outputId": "36a16a39-7312-4619-9a50-068f276c1387"
      },
      "source": [
        "#check for missing values\n",
        "hass.isnull().sum()"
      ],
      "execution_count": null,
      "outputs": [
        {
          "output_type": "execute_result",
          "data": {
            "text/plain": [
              "price            0\n",
              "bedrooms         0\n",
              "bathrooms        0\n",
              "sqft_living      0\n",
              "sqft_lot         0\n",
              "floors           0\n",
              "waterfront       0\n",
              "view             0\n",
              "condition        0\n",
              "grade            0\n",
              "sqft_above       0\n",
              "sqft_basement    0\n",
              "yr_built         0\n",
              "yr_renovated     0\n",
              "zipcode          0\n",
              "sqft_living15    0\n",
              "sqft_lot15       0\n",
              "dtype: int64"
            ]
          },
          "metadata": {
            "tags": []
          },
          "execution_count": 9
        }
      ]
    },
    {
      "cell_type": "code",
      "metadata": {
        "id": "GDG0IjX2Jjvs"
      },
      "source": [
        "# create a new column 'last_modified' that tells when the house was last modified then drop 'yr_built' and 'yr_renovated' columns\n",
        "\n",
        "# create a function that defines the status of the match\n",
        "def year (x):\n",
        "   if x['yr_renovated'] != 0:\n",
        "      return x['yr_renovated']\n",
        "   return x['yr_built']\n",
        "\n",
        "# add a new column and apply the function\n",
        "hass['last_modified'] = (hass.apply (lambda x: year(x), axis=1)).astype(int)\n",
        "\n",
        "# drop 'yr_built' and 'yr_renovated'\n",
        "hass.drop(['yr_built', 'yr_renovated'], axis=1, inplace=True)"
      ],
      "execution_count": null,
      "outputs": []
    },
    {
      "cell_type": "code",
      "metadata": {
        "colab": {
          "base_uri": "https://localhost:8080/",
          "height": 1000
        },
        "id": "BVq4roqUKTTo",
        "outputId": "2f5c7ef1-9f3f-499c-900a-aef693d9f3de"
      },
      "source": [
        "# check for outliers in the variables\n",
        "col_names= ['price',\t'bedrooms',\t'bathrooms',\t'sqft_living',\t'sqft_lot',\t'floors', 'view', 'sqft_above', 'sqft_basement', 'last_modified', 'sqft_living15',\t'sqft_lot15', 'condition', 'grade']\n",
        "\n",
        "fig, ax = plt.subplots(len(col_names), figsize=(10,100))\n",
        "\n",
        "for i, col_val in enumerate(col_names):\n",
        "\n",
        "    sns.boxplot(y=hass[col_val], ax=ax[i])\n",
        "    ax[i].set_title('Box plot for {}'.format(col_val), fontsize=14)\n",
        "    ax[i].set_xlabel(col_val, fontsize=12)\n",
        "    ax[i].set_ylabel('Value', fontsize=12)"
      ],
      "execution_count": null,
      "outputs": [
        {
          "output_type": "display_data",
          "data": {
            "image/png": "[encoded data removed]",
            "text/plain": [
              "<Figure size 720x7200 with 14 Axes>"
            ]
          },
          "metadata": {
            "tags": [],
            "needs_background": "light"
          }
        }
      ]
    },
    {
      "cell_type": "markdown",
      "metadata": {
        "id": "4WLv_8zCGomg"
      },
      "source": [
        "Our medels will be using regression that is robust to outliers hence will not be removed."
      ]
    },
    {
      "cell_type": "code",
      "metadata": {
        "colab": {
          "base_uri": "https://localhost:8080/"
        },
        "id": "Kuu-vV2hOLDK",
        "outputId": "723462f6-1773-4184-fbe7-6d968fffc946"
      },
      "source": [
        "# check the number of records remaining after cleaning\n",
        "hass.shape"
      ],
      "execution_count": null,
      "outputs": [
        {
          "output_type": "execute_result",
          "data": {
            "text/plain": [
              "(21610, 16)"
            ]
          },
          "metadata": {
            "tags": []
          },
          "execution_count": 12
        }
      ]
    },
    {
      "cell_type": "markdown",
      "metadata": {
        "id": "_LlMIcAPpYuJ"
      },
      "source": [
        "## Data analysis"
      ]
    },
    {
      "cell_type": "markdown",
      "metadata": {
        "id": "7vW5pth3PYau"
      },
      "source": [
        "### Univariate analysis"
      ]
    },
    {
      "cell_type": "code",
      "metadata": {
        "colab": {
          "base_uri": "https://localhost:8080/",
          "height": 314
        },
        "id": "SE4wipkHPXve",
        "outputId": "2f24c075-1bf4-4bb5-a662-2bd1e695aa31"
      },
      "source": [
        "# compute the general statistical summaries of the numerical variables\n",
        "hass.describe()"
      ],
      "execution_count": null,
      "outputs": [
        {
          "output_type": "execute_result",
          "data": {
            "text/html": [
              "<div>\n",
              "<style scoped>\n",
              "    .dataframe tbody tr th:only-of-type {\n",
              "        vertical-align: middle;\n",
              "    }\n",
              "\n",
              "    .dataframe tbody tr th {\n",
              "        vertical-align: top;\n",
              "    }\n",
              "\n",
              "    .dataframe thead th {\n",
              "        text-align: right;\n",
              "    }\n",
              "</style>\n",
              "<table border=\"1\" class=\"dataframe\">\n",
              "  <thead>\n",
              "    <tr style=\"text-align: right;\">\n",
              "      <th></th>\n",
              "      <th>price</th>\n",
              "      <th>bedrooms</th>\n",
              "      <th>bathrooms</th>\n",
              "      <th>sqft_living</th>\n",
              "      <th>sqft_lot</th>\n",
              "      <th>floors</th>\n",
              "      <th>waterfront</th>\n",
              "      <th>view</th>\n",
              "      <th>condition</th>\n",
              "      <th>grade</th>\n",
              "      <th>sqft_above</th>\n",
              "      <th>sqft_basement</th>\n",
              "      <th>zipcode</th>\n",
              "      <th>sqft_living15</th>\n",
              "      <th>sqft_lot15</th>\n",
              "      <th>last_modified</th>\n",
              "    </tr>\n",
              "  </thead>\n",
              "  <tbody>\n",
              "    <tr>\n",
              "      <th>count</th>\n",
              "      <td>21610.00</td>\n",
              "      <td>21610.00</td>\n",
              "      <td>21610.00</td>\n",
              "      <td>21610.00</td>\n",
              "      <td>21610.00</td>\n",
              "      <td>21610.00</td>\n",
              "      <td>21610.00</td>\n",
              "      <td>21610.00</td>\n",
              "      <td>21610.00</td>\n",
              "      <td>21610.00</td>\n",
              "      <td>21610.00</td>\n",
              "      <td>21610.00</td>\n",
              "      <td>21610.00</td>\n",
              "      <td>21610.00</td>\n",
              "      <td>21610.00</td>\n",
              "      <td>21610.00</td>\n",
              "    </tr>\n",
              "    <tr>\n",
              "      <th>mean</th>\n",
              "      <td>540178.94</td>\n",
              "      <td>3.37</td>\n",
              "      <td>2.11</td>\n",
              "      <td>2079.88</td>\n",
              "      <td>15108.29</td>\n",
              "      <td>1.49</td>\n",
              "      <td>0.01</td>\n",
              "      <td>0.23</td>\n",
              "      <td>3.41</td>\n",
              "      <td>7.66</td>\n",
              "      <td>1788.35</td>\n",
              "      <td>291.53</td>\n",
              "      <td>98077.95</td>\n",
              "      <td>1986.52</td>\n",
              "      <td>12769.03</td>\n",
              "      <td>1973.38</td>\n",
              "    </tr>\n",
              "    <tr>\n",
              "      <th>std</th>\n",
              "      <td>367387.59</td>\n",
              "      <td>0.93</td>\n",
              "      <td>0.77</td>\n",
              "      <td>918.50</td>\n",
              "      <td>41423.23</td>\n",
              "      <td>0.54</td>\n",
              "      <td>0.09</td>\n",
              "      <td>0.77</td>\n",
              "      <td>0.65</td>\n",
              "      <td>1.18</td>\n",
              "      <td>828.14</td>\n",
              "      <td>442.60</td>\n",
              "      <td>53.51</td>\n",
              "      <td>685.43</td>\n",
              "      <td>27305.97</td>\n",
              "      <td>28.81</td>\n",
              "    </tr>\n",
              "    <tr>\n",
              "      <th>min</th>\n",
              "      <td>75000.00</td>\n",
              "      <td>0.00</td>\n",
              "      <td>0.00</td>\n",
              "      <td>290.00</td>\n",
              "      <td>520.00</td>\n",
              "      <td>1.00</td>\n",
              "      <td>0.00</td>\n",
              "      <td>0.00</td>\n",
              "      <td>1.00</td>\n",
              "      <td>1.00</td>\n",
              "      <td>290.00</td>\n",
              "      <td>0.00</td>\n",
              "      <td>98001.00</td>\n",
              "      <td>399.00</td>\n",
              "      <td>651.00</td>\n",
              "      <td>1900.00</td>\n",
              "    </tr>\n",
              "    <tr>\n",
              "      <th>25%</th>\n",
              "      <td>321612.50</td>\n",
              "      <td>3.00</td>\n",
              "      <td>1.75</td>\n",
              "      <td>1425.50</td>\n",
              "      <td>5040.00</td>\n",
              "      <td>1.00</td>\n",
              "      <td>0.00</td>\n",
              "      <td>0.00</td>\n",
              "      <td>3.00</td>\n",
              "      <td>7.00</td>\n",
              "      <td>1190.00</td>\n",
              "      <td>0.00</td>\n",
              "      <td>98033.00</td>\n",
              "      <td>1490.00</td>\n",
              "      <td>5100.00</td>\n",
              "      <td>1954.00</td>\n",
              "    </tr>\n",
              "    <tr>\n",
              "      <th>50%</th>\n",
              "      <td>450000.00</td>\n",
              "      <td>3.00</td>\n",
              "      <td>2.25</td>\n",
              "      <td>1910.00</td>\n",
              "      <td>7619.00</td>\n",
              "      <td>1.50</td>\n",
              "      <td>0.00</td>\n",
              "      <td>0.00</td>\n",
              "      <td>3.00</td>\n",
              "      <td>7.00</td>\n",
              "      <td>1560.00</td>\n",
              "      <td>0.00</td>\n",
              "      <td>98065.00</td>\n",
              "      <td>1840.00</td>\n",
              "      <td>7620.00</td>\n",
              "      <td>1977.00</td>\n",
              "    </tr>\n",
              "    <tr>\n",
              "      <th>75%</th>\n",
              "      <td>645000.00</td>\n",
              "      <td>4.00</td>\n",
              "      <td>2.50</td>\n",
              "      <td>2550.00</td>\n",
              "      <td>10688.75</td>\n",
              "      <td>2.00</td>\n",
              "      <td>0.00</td>\n",
              "      <td>0.00</td>\n",
              "      <td>4.00</td>\n",
              "      <td>8.00</td>\n",
              "      <td>2210.00</td>\n",
              "      <td>560.00</td>\n",
              "      <td>98118.00</td>\n",
              "      <td>2360.00</td>\n",
              "      <td>10083.00</td>\n",
              "      <td>1999.00</td>\n",
              "    </tr>\n",
              "    <tr>\n",
              "      <th>max</th>\n",
              "      <td>7700000.00</td>\n",
              "      <td>33.00</td>\n",
              "      <td>8.00</td>\n",
              "      <td>13540.00</td>\n",
              "      <td>1651359.00</td>\n",
              "      <td>3.50</td>\n",
              "      <td>1.00</td>\n",
              "      <td>4.00</td>\n",
              "      <td>5.00</td>\n",
              "      <td>13.00</td>\n",
              "      <td>9410.00</td>\n",
              "      <td>4820.00</td>\n",
              "      <td>98199.00</td>\n",
              "      <td>6210.00</td>\n",
              "      <td>871200.00</td>\n",
              "      <td>2015.00</td>\n",
              "    </tr>\n",
              "  </tbody>\n",
              "</table>\n",
              "</div>"
            ],
            "text/plain": [
              "           price  bedrooms  bathrooms  ...  sqft_living15  sqft_lot15  last_modified\n",
              "count   21610.00  21610.00   21610.00  ...       21610.00    21610.00       21610.00\n",
              "mean   540178.94      3.37       2.11  ...        1986.52    12769.03        1973.38\n",
              "std    367387.59      0.93       0.77  ...         685.43    27305.97          28.81\n",
              "min     75000.00      0.00       0.00  ...         399.00      651.00        1900.00\n",
              "25%    321612.50      3.00       1.75  ...        1490.00     5100.00        1954.00\n",
              "50%    450000.00      3.00       2.25  ...        1840.00     7620.00        1977.00\n",
              "75%    645000.00      4.00       2.50  ...        2360.00    10083.00        1999.00\n",
              "max   7700000.00     33.00       8.00  ...        6210.00   871200.00        2015.00\n",
              "\n",
              "[8 rows x 16 columns]"
            ]
          },
          "metadata": {
            "tags": []
          },
          "execution_count": 13
        }
      ]
    },
    {
      "cell_type": "code",
      "metadata": {
        "colab": {
          "base_uri": "https://localhost:8080/"
        },
        "id": "yXsfMo8_RJCi",
        "outputId": "8006cdf4-e823-4135-afee-562169b930c8"
      },
      "source": [
        "# compute the skewness of the quantitative variables\n",
        "numeric_feats = ['price','bedrooms','bathrooms', 'sqft_living', 'sqft_lot', 'floors', 'view', 'sqft_above', 'sqft_basement', 'sqft_living15', 'sqft_lot15']\n",
        "skewed_feats = hass[numeric_feats].skew()\n",
        "\n",
        "skewed_feats.sort_values(ascending=False)\n"
      ],
      "execution_count": null,
      "outputs": [
        {
          "output_type": "execute_result",
          "data": {
            "text/plain": [
              "sqft_lot        13.06\n",
              "sqft_lot15       9.51\n",
              "price            4.02\n",
              "view             3.40\n",
              "bedrooms         1.97\n",
              "sqft_basement    1.58\n",
              "sqft_living      1.47\n",
              "sqft_above       1.45\n",
              "sqft_living15    1.11\n",
              "floors           0.62\n",
              "bathrooms        0.51\n",
              "dtype: float64"
            ]
          },
          "metadata": {
            "tags": []
          },
          "execution_count": 14
        }
      ]
    },
    {
      "cell_type": "markdown",
      "metadata": {
        "id": "tO6W4wBOUChr"
      },
      "source": [
        "Only 'floors' and 'bathrooms' are moderately skewed while the rest of the variables are highly skewed."
      ]
    },
    {
      "cell_type": "markdown",
      "metadata": {
        "id": "7JBl5vYSiJkI"
      },
      "source": [
        "### Bivariate Analysis  \n",
        "In bivariate analysis, we will investigate the relationship between the different variables and house prices"
      ]
    },
    {
      "cell_type": "code",
      "metadata": {
        "colab": {
          "base_uri": "https://localhost:8080/",
          "height": 1000
        },
        "id": "3nrk0-80iIzY",
        "outputId": "83cff78a-3238-453f-8c3d-75138f44f499"
      },
      "source": [
        "# plot scatter plots to show relationships between house price and the different variables with continuous numerical data\n",
        "col_names= ['sqft_living',\t'sqft_lot', 'sqft_above', 'sqft_basement', 'sqft_living15',\t'sqft_lot15']\n",
        "\n",
        "fig, ax = plt.subplots(len(col_names), figsize=(10,50))\n",
        "\n",
        "for i, col_val in enumerate(col_names):\n",
        "\n",
        "    sns.scatterplot(y=hass.price, x=hass[col_val], ax=ax[i])\n",
        "    ax[i].set_title('Price vs {}'.format(col_val), fontsize=16)\n",
        "    ax[i].set_xlabel(col_val, fontsize=14)\n",
        "    ax[i].set_ylabel('Price', fontsize=14)"
      ],
      "execution_count": null,
      "outputs": [
        {
          "output_type": "display_data",
          "data": {
            "image/png": "[encoded data removed]",
            "text/plain": [
              "<Figure size 720x3600 with 6 Axes>"
            ]
          },
          "metadata": {
            "tags": [],
            "needs_background": "light"
          }
        }
      ]
    },
    {
      "cell_type": "markdown",
      "metadata": {
        "id": "FxqwKCfVYVfd"
      },
      "source": [
        "The relationships with between price and the different variables are non-linear."
      ]
    },
    {
      "cell_type": "code",
      "metadata": {
        "colab": {
          "base_uri": "https://localhost:8080/",
          "height": 427
        },
        "id": "eso6CpLob11q",
        "outputId": "78aae06b-08c0-4ad8-8a1b-8e5c2e339a5e"
      },
      "source": [
        "# plot boxplot that shows relationship between price and bedrooms\n",
        "fig, ax = plt.subplots(figsize=(8, 6))\n",
        "\n",
        "sns.boxplot(y=hass.price, x=hass.bedrooms, width=0.5,palette=\"colorblind\")\n",
        "plt.title('Price vs Number of Bedrooms', fontsize=16)\n",
        "plt.xlabel('Number of bedrooms', fontsize=14)\n",
        "plt.ylabel('Price', fontsize=14)\n",
        "plt.show()\n",
        "\n",
        "# print correlation coefficient\n",
        "print('correlation coefficient ', hass[\"price\"].corr(hass[\"bedrooms\"])) "
      ],
      "execution_count": null,
      "outputs": [
        {
          "output_type": "display_data",
          "data": {
            "image/png": "[encoded data removed]",
            "text/plain": [
              "<Figure size 576x432 with 1 Axes>"
            ]
          },
          "metadata": {
            "tags": [],
            "needs_background": "light"
          }
        },
        {
          "output_type": "stream",
          "text": [
            "correlation coefficient  0.3083461828688016\n"
          ],
          "name": "stdout"
        }
      ]
    },
    {
      "cell_type": "code",
      "metadata": {
        "colab": {
          "base_uri": "https://localhost:8080/",
          "height": 427
        },
        "id": "Vdq_I2cChpCm",
        "outputId": "7bae1704-82aa-41df-f8a6-e942981c35b4"
      },
      "source": [
        "# plot boxplot that shows relationship between price and bathrooms\n",
        "fig, ax = plt.subplots(figsize=(20, 6))\n",
        "\n",
        "sns.boxplot(y=hass.price, x=hass.bathrooms, width=0.5,palette=\"colorblind\")\n",
        "plt.title('Price vs Number of Bathrooms', fontsize=16)\n",
        "plt.xlabel('Number of bathrooms', fontsize=14)\n",
        "plt.ylabel('Price', fontsize=14)\n",
        "plt.show()\n",
        "\n",
        "# print correlation coefficient\n",
        "print('correlation coefficient ', hass[\"price\"].corr(hass[\"bathrooms\"])) "
      ],
      "execution_count": null,
      "outputs": [
        {
          "output_type": "display_data",
          "data": {
            "image/png": "[encoded data removed]",
            "text/plain": [
              "<Figure size 1440x432 with 1 Axes>"
            ]
          },
          "metadata": {
            "tags": [],
            "needs_background": "light"
          }
        },
        {
          "output_type": "stream",
          "text": [
            "correlation coefficient  0.5251399153586779\n"
          ],
          "name": "stdout"
        }
      ]
    },
    {
      "cell_type": "code",
      "metadata": {
        "colab": {
          "base_uri": "https://localhost:8080/",
          "height": 427
        },
        "id": "yigm9_UOiKkx",
        "outputId": "cd185cf2-e58b-4b0c-e30c-f2c03f874d54"
      },
      "source": [
        "# plot boxplot that shows relationship between price and floors\n",
        "fig, ax = plt.subplots(figsize=(8, 6))\n",
        "\n",
        "sns.boxplot(y=hass.price, x=hass.floors, width=0.5,palette=\"colorblind\")\n",
        "plt.title('Price vs Number of Floors', fontsize=16)\n",
        "plt.xlabel('Floors', fontsize=14)\n",
        "plt.ylabel('Price', fontsize=14)\n",
        "plt.show()\n",
        "print('correlation coefficient ', hass[\"price\"].corr(hass[\"floors\"])) "
      ],
      "execution_count": null,
      "outputs": [
        {
          "output_type": "display_data",
          "data": {
            "image/png": "[encoded data removed]",
            "text/plain": [
              "<Figure size 576x432 with 1 Axes>"
            ]
          },
          "metadata": {
            "tags": [],
            "needs_background": "light"
          }
        },
        {
          "output_type": "stream",
          "text": [
            "correlation coefficient  0.2567932473152905\n"
          ],
          "name": "stdout"
        }
      ]
    },
    {
      "cell_type": "code",
      "metadata": {
        "colab": {
          "base_uri": "https://localhost:8080/",
          "height": 427
        },
        "id": "N9zEQ5oJrWf3",
        "outputId": "2bc0af75-b421-49bb-de0f-2735ef5eb810"
      },
      "source": [
        "# plot boxplot that shows relationship between price and waterfront\n",
        "fig, ax = plt.subplots(figsize=(8, 6))\n",
        "\n",
        "sns.boxplot(y=hass.price, x=hass.waterfront, width=0.5,palette=\"colorblind\")\n",
        "plt.title('Price vs Waterfront', fontsize=16)\n",
        "plt.xlabel('Waterfront', fontsize=14)\n",
        "plt.ylabel('Price', fontsize=14)\n",
        "plt.show()\n",
        "\n",
        "# print correlation coefficient\n",
        "print('correlation coefficient ', hass[\"price\"].corr(hass[\"waterfront\"])) "
      ],
      "execution_count": null,
      "outputs": [
        {
          "output_type": "display_data",
          "data": {
            "image/png": "[encoded data removed]",
            "text/plain": [
              "<Figure size 576x432 with 1 Axes>"
            ]
          },
          "metadata": {
            "tags": [],
            "needs_background": "light"
          }
        },
        {
          "output_type": "stream",
          "text": [
            "correlation coefficient  0.2663315198159196\n"
          ],
          "name": "stdout"
        }
      ]
    },
    {
      "cell_type": "code",
      "metadata": {
        "colab": {
          "base_uri": "https://localhost:8080/",
          "height": 427
        },
        "id": "dKziZ-Zniroe",
        "outputId": "62acecd6-492c-4857-b902-229f4b113023"
      },
      "source": [
        "# plot boxplot that shows relationship between price and views\n",
        "fig, ax = plt.subplots(figsize=(8, 6))\n",
        "\n",
        "sns.boxplot(y=hass.price, x=hass.view, width=0.5,palette=\"colorblind\")\n",
        "plt.title('Price vs Number of Views', fontsize=16)\n",
        "plt.xlabel('Number of views', fontsize=14)\n",
        "plt.ylabel('Price', fontsize=14)\n",
        "plt.show()\n",
        "\n",
        "# print correlation coefficient\n",
        "print('correlation coefficient ', hass[\"price\"].corr(hass[\"view\"])) "
      ],
      "execution_count": null,
      "outputs": [
        {
          "output_type": "display_data",
          "data": {
            "image/png": "[encoded data removed]",
            "text/plain": [
              "<Figure size 576x432 with 1 Axes>"
            ]
          },
          "metadata": {
            "tags": [],
            "needs_background": "light"
          }
        },
        {
          "output_type": "stream",
          "text": [
            "correlation coefficient  0.39746598194021615\n"
          ],
          "name": "stdout"
        }
      ]
    },
    {
      "cell_type": "code",
      "metadata": {
        "colab": {
          "base_uri": "https://localhost:8080/",
          "height": 427
        },
        "id": "xAC0D6JYjO5J",
        "outputId": "a6e91c53-d9f3-4309-800c-ff7d3e4383a5"
      },
      "source": [
        "# plot boxplot that shows relationship between price and condition\n",
        "fig, ax = plt.subplots(figsize=(8, 6))\n",
        "\n",
        "sns.boxplot(y=hass.price, x=hass.condition, width=0.5,palette=\"colorblind\")\n",
        "plt.title('Price vs Condition', fontsize=16)\n",
        "plt.xlabel('Condition', fontsize=14)\n",
        "plt.ylabel('Price', fontsize=14)\n",
        "plt.show()\n",
        "\n",
        "# print correlation coefficient\n",
        "print('correlation coefficient ', hass[\"price\"].corr(hass[\"condition\"])) "
      ],
      "execution_count": null,
      "outputs": [
        {
          "output_type": "display_data",
          "data": {
            "image/png": "[encoded data removed]",
            "text/plain": [
              "<Figure size 576x432 with 1 Axes>"
            ]
          },
          "metadata": {
            "tags": [],
            "needs_background": "light"
          }
        },
        {
          "output_type": "stream",
          "text": [
            "correlation coefficient  0.0363968999538525\n"
          ],
          "name": "stdout"
        }
      ]
    },
    {
      "cell_type": "code",
      "metadata": {
        "colab": {
          "base_uri": "https://localhost:8080/",
          "height": 427
        },
        "id": "J84Rfz4VkDmw",
        "outputId": "ad102b6b-5db2-4c6e-9b76-98217d2bb651"
      },
      "source": [
        "# plot boxplot that shows relationship between price and grade\n",
        "fig, ax = plt.subplots(figsize=(9, 6))\n",
        "\n",
        "sns.boxplot(y=hass.price, x=hass.grade, width=0.5,palette=\"colorblind\")\n",
        "plt.title('Price vs Grade', fontsize=16)\n",
        "plt.xlabel('Grade', fontsize=14)\n",
        "plt.ylabel('Price', fontsize=14)\n",
        "plt.show()\n",
        "\n",
        "# print correlation coefficient\n",
        "print('correlation coefficient ', hass[\"price\"].corr(hass[\"grade\"])) "
      ],
      "execution_count": null,
      "outputs": [
        {
          "output_type": "display_data",
          "data": {
            "image/png": "[encoded data removed]",
            "text/plain": [
              "<Figure size 648x432 with 1 Axes>"
            ]
          },
          "metadata": {
            "tags": [],
            "needs_background": "light"
          }
        },
        {
          "output_type": "stream",
          "text": [
            "correlation coefficient  0.667478445706622\n"
          ],
          "name": "stdout"
        }
      ]
    },
    {
      "cell_type": "markdown",
      "metadata": {
        "id": "Mdwk8ezJpf8u"
      },
      "source": [
        "## Multiple linear regression"
      ]
    },
    {
      "cell_type": "markdown",
      "metadata": {
        "id": "J5CfqQ4lc8sO"
      },
      "source": [
        "In order to create a good linear regression model for predictive analysis, the following conditions should be met.\n",
        "\n",
        "> 1. Linearity: There should be a linear relationship between the independent variable, x, and the dependent variable, y.  \n",
        "2. Independence: The observasions should be independent of each other\n",
        "3. Homoscedasticity: The residuals should have a constant variance at every level of x  \n",
        "4. Normality: The residuals of the model should be normally distributed  \n",
        "  \n",
        "\n",
        "From the bivariate analysis above, most of the independent variables do not have a linear relationship with the dependent variable (price); therefore, a trained linear regression model will not be very accurate in predicting the sale price of most of the houses even when the other conditions are met.  \n",
        "  \n",
        "We will still create a linear regression model and check whether the other conditions are met to see how the model fairs."
      ]
    },
    {
      "cell_type": "markdown",
      "metadata": {
        "id": "UoexU9SlTALE"
      },
      "source": [
        "### Multicollinearity check"
      ]
    },
    {
      "cell_type": "code",
      "metadata": {
        "colab": {
          "base_uri": "https://localhost:8080/",
          "height": 529
        },
        "id": "XdBZmxZWpfUH",
        "outputId": "bea160da-29ca-42fa-dcdd-4454d1157864"
      },
      "source": [
        "# lets put all the independent variables in one subset\n",
        "independent_variables = hass.drop(['price',], axis=1)\n",
        "\n",
        "# find the correlations between the variables\n",
        "correlations = independent_variables.corr()\n",
        "correlations"
      ],
      "execution_count": null,
      "outputs": [
        {
          "output_type": "execute_result",
          "data": {
            "text/html": [
              "<div>\n",
              "<style scoped>\n",
              "    .dataframe tbody tr th:only-of-type {\n",
              "        vertical-align: middle;\n",
              "    }\n",
              "\n",
              "    .dataframe tbody tr th {\n",
              "        vertical-align: top;\n",
              "    }\n",
              "\n",
              "    .dataframe thead th {\n",
              "        text-align: right;\n",
              "    }\n",
              "</style>\n",
              "<table border=\"1\" class=\"dataframe\">\n",
              "  <thead>\n",
              "    <tr style=\"text-align: right;\">\n",
              "      <th></th>\n",
              "      <th>bedrooms</th>\n",
              "      <th>bathrooms</th>\n",
              "      <th>sqft_living</th>\n",
              "      <th>sqft_lot</th>\n",
              "      <th>floors</th>\n",
              "      <th>waterfront</th>\n",
              "      <th>view</th>\n",
              "      <th>condition</th>\n",
              "      <th>grade</th>\n",
              "      <th>sqft_above</th>\n",
              "      <th>sqft_basement</th>\n",
              "      <th>zipcode</th>\n",
              "      <th>sqft_living15</th>\n",
              "      <th>sqft_lot15</th>\n",
              "      <th>last_modified</th>\n",
              "    </tr>\n",
              "  </thead>\n",
              "  <tbody>\n",
              "    <tr>\n",
              "      <th>bedrooms</th>\n",
              "      <td>1.00</td>\n",
              "      <td>0.52</td>\n",
              "      <td>0.58</td>\n",
              "      <td>0.03</td>\n",
              "      <td>0.18</td>\n",
              "      <td>-0.01</td>\n",
              "      <td>0.08</td>\n",
              "      <td>0.03</td>\n",
              "      <td>0.36</td>\n",
              "      <td>0.48</td>\n",
              "      <td>0.30</td>\n",
              "      <td>-0.15</td>\n",
              "      <td>0.39</td>\n",
              "      <td>0.03</td>\n",
              "      <td>0.17</td>\n",
              "    </tr>\n",
              "    <tr>\n",
              "      <th>bathrooms</th>\n",
              "      <td>0.52</td>\n",
              "      <td>1.00</td>\n",
              "      <td>0.75</td>\n",
              "      <td>0.09</td>\n",
              "      <td>0.50</td>\n",
              "      <td>0.06</td>\n",
              "      <td>0.19</td>\n",
              "      <td>-0.12</td>\n",
              "      <td>0.66</td>\n",
              "      <td>0.69</td>\n",
              "      <td>0.28</td>\n",
              "      <td>-0.20</td>\n",
              "      <td>0.57</td>\n",
              "      <td>0.09</td>\n",
              "      <td>0.54</td>\n",
              "    </tr>\n",
              "    <tr>\n",
              "      <th>sqft_living</th>\n",
              "      <td>0.58</td>\n",
              "      <td>0.75</td>\n",
              "      <td>1.00</td>\n",
              "      <td>0.17</td>\n",
              "      <td>0.35</td>\n",
              "      <td>0.10</td>\n",
              "      <td>0.28</td>\n",
              "      <td>-0.06</td>\n",
              "      <td>0.76</td>\n",
              "      <td>0.88</td>\n",
              "      <td>0.44</td>\n",
              "      <td>-0.20</td>\n",
              "      <td>0.76</td>\n",
              "      <td>0.18</td>\n",
              "      <td>0.34</td>\n",
              "    </tr>\n",
              "    <tr>\n",
              "      <th>sqft_lot</th>\n",
              "      <td>0.03</td>\n",
              "      <td>0.09</td>\n",
              "      <td>0.17</td>\n",
              "      <td>1.00</td>\n",
              "      <td>-0.01</td>\n",
              "      <td>0.02</td>\n",
              "      <td>0.07</td>\n",
              "      <td>-0.01</td>\n",
              "      <td>0.11</td>\n",
              "      <td>0.18</td>\n",
              "      <td>0.02</td>\n",
              "      <td>-0.13</td>\n",
              "      <td>0.14</td>\n",
              "      <td>0.72</td>\n",
              "      <td>0.05</td>\n",
              "    </tr>\n",
              "    <tr>\n",
              "      <th>floors</th>\n",
              "      <td>0.18</td>\n",
              "      <td>0.50</td>\n",
              "      <td>0.35</td>\n",
              "      <td>-0.01</td>\n",
              "      <td>1.00</td>\n",
              "      <td>0.02</td>\n",
              "      <td>0.03</td>\n",
              "      <td>-0.26</td>\n",
              "      <td>0.46</td>\n",
              "      <td>0.52</td>\n",
              "      <td>-0.25</td>\n",
              "      <td>-0.06</td>\n",
              "      <td>0.28</td>\n",
              "      <td>-0.01</td>\n",
              "      <td>0.51</td>\n",
              "    </tr>\n",
              "    <tr>\n",
              "      <th>waterfront</th>\n",
              "      <td>-0.01</td>\n",
              "      <td>0.06</td>\n",
              "      <td>0.10</td>\n",
              "      <td>0.02</td>\n",
              "      <td>0.02</td>\n",
              "      <td>1.00</td>\n",
              "      <td>0.40</td>\n",
              "      <td>0.02</td>\n",
              "      <td>0.08</td>\n",
              "      <td>0.07</td>\n",
              "      <td>0.08</td>\n",
              "      <td>0.03</td>\n",
              "      <td>0.09</td>\n",
              "      <td>0.03</td>\n",
              "      <td>-0.00</td>\n",
              "    </tr>\n",
              "    <tr>\n",
              "      <th>view</th>\n",
              "      <td>0.08</td>\n",
              "      <td>0.19</td>\n",
              "      <td>0.28</td>\n",
              "      <td>0.07</td>\n",
              "      <td>0.03</td>\n",
              "      <td>0.40</td>\n",
              "      <td>1.00</td>\n",
              "      <td>0.05</td>\n",
              "      <td>0.25</td>\n",
              "      <td>0.17</td>\n",
              "      <td>0.28</td>\n",
              "      <td>0.08</td>\n",
              "      <td>0.28</td>\n",
              "      <td>0.07</td>\n",
              "      <td>-0.02</td>\n",
              "    </tr>\n",
              "    <tr>\n",
              "      <th>condition</th>\n",
              "      <td>0.03</td>\n",
              "      <td>-0.12</td>\n",
              "      <td>-0.06</td>\n",
              "      <td>-0.01</td>\n",
              "      <td>-0.26</td>\n",
              "      <td>0.02</td>\n",
              "      <td>0.05</td>\n",
              "      <td>1.00</td>\n",
              "      <td>-0.14</td>\n",
              "      <td>-0.16</td>\n",
              "      <td>0.17</td>\n",
              "      <td>0.00</td>\n",
              "      <td>-0.09</td>\n",
              "      <td>-0.00</td>\n",
              "      <td>-0.40</td>\n",
              "    </tr>\n",
              "    <tr>\n",
              "      <th>grade</th>\n",
              "      <td>0.36</td>\n",
              "      <td>0.66</td>\n",
              "      <td>0.76</td>\n",
              "      <td>0.11</td>\n",
              "      <td>0.46</td>\n",
              "      <td>0.08</td>\n",
              "      <td>0.25</td>\n",
              "      <td>-0.14</td>\n",
              "      <td>1.00</td>\n",
              "      <td>0.76</td>\n",
              "      <td>0.17</td>\n",
              "      <td>-0.18</td>\n",
              "      <td>0.71</td>\n",
              "      <td>0.12</td>\n",
              "      <td>0.46</td>\n",
              "    </tr>\n",
              "    <tr>\n",
              "      <th>sqft_above</th>\n",
              "      <td>0.48</td>\n",
              "      <td>0.69</td>\n",
              "      <td>0.88</td>\n",
              "      <td>0.18</td>\n",
              "      <td>0.52</td>\n",
              "      <td>0.07</td>\n",
              "      <td>0.17</td>\n",
              "      <td>-0.16</td>\n",
              "      <td>0.76</td>\n",
              "      <td>1.00</td>\n",
              "      <td>-0.05</td>\n",
              "      <td>-0.26</td>\n",
              "      <td>0.73</td>\n",
              "      <td>0.19</td>\n",
              "      <td>0.44</td>\n",
              "    </tr>\n",
              "    <tr>\n",
              "      <th>sqft_basement</th>\n",
              "      <td>0.30</td>\n",
              "      <td>0.28</td>\n",
              "      <td>0.44</td>\n",
              "      <td>0.02</td>\n",
              "      <td>-0.25</td>\n",
              "      <td>0.08</td>\n",
              "      <td>0.28</td>\n",
              "      <td>0.17</td>\n",
              "      <td>0.17</td>\n",
              "      <td>-0.05</td>\n",
              "      <td>1.00</td>\n",
              "      <td>0.07</td>\n",
              "      <td>0.20</td>\n",
              "      <td>0.02</td>\n",
              "      <td>-0.10</td>\n",
              "    </tr>\n",
              "    <tr>\n",
              "      <th>zipcode</th>\n",
              "      <td>-0.15</td>\n",
              "      <td>-0.20</td>\n",
              "      <td>-0.20</td>\n",
              "      <td>-0.13</td>\n",
              "      <td>-0.06</td>\n",
              "      <td>0.03</td>\n",
              "      <td>0.08</td>\n",
              "      <td>0.00</td>\n",
              "      <td>-0.18</td>\n",
              "      <td>-0.26</td>\n",
              "      <td>0.07</td>\n",
              "      <td>1.00</td>\n",
              "      <td>-0.28</td>\n",
              "      <td>-0.15</td>\n",
              "      <td>-0.32</td>\n",
              "    </tr>\n",
              "    <tr>\n",
              "      <th>sqft_living15</th>\n",
              "      <td>0.39</td>\n",
              "      <td>0.57</td>\n",
              "      <td>0.76</td>\n",
              "      <td>0.14</td>\n",
              "      <td>0.28</td>\n",
              "      <td>0.09</td>\n",
              "      <td>0.28</td>\n",
              "      <td>-0.09</td>\n",
              "      <td>0.71</td>\n",
              "      <td>0.73</td>\n",
              "      <td>0.20</td>\n",
              "      <td>-0.28</td>\n",
              "      <td>1.00</td>\n",
              "      <td>0.18</td>\n",
              "      <td>0.32</td>\n",
              "    </tr>\n",
              "    <tr>\n",
              "      <th>sqft_lot15</th>\n",
              "      <td>0.03</td>\n",
              "      <td>0.09</td>\n",
              "      <td>0.18</td>\n",
              "      <td>0.72</td>\n",
              "      <td>-0.01</td>\n",
              "      <td>0.03</td>\n",
              "      <td>0.07</td>\n",
              "      <td>-0.00</td>\n",
              "      <td>0.12</td>\n",
              "      <td>0.19</td>\n",
              "      <td>0.02</td>\n",
              "      <td>-0.15</td>\n",
              "      <td>0.18</td>\n",
              "      <td>1.00</td>\n",
              "      <td>0.07</td>\n",
              "    </tr>\n",
              "    <tr>\n",
              "      <th>last_modified</th>\n",
              "      <td>0.17</td>\n",
              "      <td>0.54</td>\n",
              "      <td>0.34</td>\n",
              "      <td>0.05</td>\n",
              "      <td>0.51</td>\n",
              "      <td>-0.00</td>\n",
              "      <td>-0.02</td>\n",
              "      <td>-0.40</td>\n",
              "      <td>0.46</td>\n",
              "      <td>0.44</td>\n",
              "      <td>-0.10</td>\n",
              "      <td>-0.32</td>\n",
              "      <td>0.32</td>\n",
              "      <td>0.07</td>\n",
              "      <td>1.00</td>\n",
              "    </tr>\n",
              "  </tbody>\n",
              "</table>\n",
              "</div>"
            ],
            "text/plain": [
              "               bedrooms  bathrooms  ...  sqft_lot15  last_modified\n",
              "bedrooms           1.00       0.52  ...        0.03           0.17\n",
              "bathrooms          0.52       1.00  ...        0.09           0.54\n",
              "sqft_living        0.58       0.75  ...        0.18           0.34\n",
              "sqft_lot           0.03       0.09  ...        0.72           0.05\n",
              "floors             0.18       0.50  ...       -0.01           0.51\n",
              "waterfront        -0.01       0.06  ...        0.03          -0.00\n",
              "view               0.08       0.19  ...        0.07          -0.02\n",
              "condition          0.03      -0.12  ...       -0.00          -0.40\n",
              "grade              0.36       0.66  ...        0.12           0.46\n",
              "sqft_above         0.48       0.69  ...        0.19           0.44\n",
              "sqft_basement      0.30       0.28  ...        0.02          -0.10\n",
              "zipcode           -0.15      -0.20  ...       -0.15          -0.32\n",
              "sqft_living15      0.39       0.57  ...        0.18           0.32\n",
              "sqft_lot15         0.03       0.09  ...        1.00           0.07\n",
              "last_modified      0.17       0.54  ...        0.07           1.00\n",
              "\n",
              "[15 rows x 15 columns]"
            ]
          },
          "metadata": {
            "tags": []
          },
          "execution_count": 23
        }
      ]
    },
    {
      "cell_type": "markdown",
      "metadata": {
        "id": "Dmr-N6BIUDV2"
      },
      "source": [
        "According to the pearson correlation values, there are columns that are strongly correlated. We will use the correlations above to compute variance inflation factors of the variables to check for multicollinearity."
      ]
    },
    {
      "cell_type": "code",
      "metadata": {
        "colab": {
          "base_uri": "https://localhost:8080/",
          "height": 529
        },
        "id": "rzcRVQGTT8Dj",
        "outputId": "b67ea7e1-3355-4eed-edae-a9220812d436"
      },
      "source": [
        "# create a dataframe that shows the VIF scores of the variables\n",
        "pd.DataFrame(np.linalg.inv(correlations.values), index = correlations.index, columns=correlations.columns)"
      ],
      "execution_count": null,
      "outputs": [
        {
          "output_type": "execute_result",
          "data": {
            "text/html": [
              "<div>\n",
              "<style scoped>\n",
              "    .dataframe tbody tr th:only-of-type {\n",
              "        vertical-align: middle;\n",
              "    }\n",
              "\n",
              "    .dataframe tbody tr th {\n",
              "        vertical-align: top;\n",
              "    }\n",
              "\n",
              "    .dataframe thead th {\n",
              "        text-align: right;\n",
              "    }\n",
              "</style>\n",
              "<table border=\"1\" class=\"dataframe\">\n",
              "  <thead>\n",
              "    <tr style=\"text-align: right;\">\n",
              "      <th></th>\n",
              "      <th>bedrooms</th>\n",
              "      <th>bathrooms</th>\n",
              "      <th>sqft_living</th>\n",
              "      <th>sqft_lot</th>\n",
              "      <th>floors</th>\n",
              "      <th>waterfront</th>\n",
              "      <th>view</th>\n",
              "      <th>condition</th>\n",
              "      <th>grade</th>\n",
              "      <th>sqft_above</th>\n",
              "      <th>sqft_basement</th>\n",
              "      <th>zipcode</th>\n",
              "      <th>sqft_living15</th>\n",
              "      <th>sqft_lot15</th>\n",
              "      <th>last_modified</th>\n",
              "    </tr>\n",
              "  </thead>\n",
              "  <tbody>\n",
              "    <tr>\n",
              "      <th>bedrooms</th>\n",
              "      <td>1.65</td>\n",
              "      <td>-0.46</td>\n",
              "      <td>-0.63</td>\n",
              "      <td>0.05</td>\n",
              "      <td>0.05</td>\n",
              "      <td>0.06</td>\n",
              "      <td>0.11</td>\n",
              "      <td>-0.05</td>\n",
              "      <td>0.32</td>\n",
              "      <td>-0.31</td>\n",
              "      <td>-0.18</td>\n",
              "      <td>0.08</td>\n",
              "      <td>0.04</td>\n",
              "      <td>0.09</td>\n",
              "      <td>0.12</td>\n",
              "    </tr>\n",
              "    <tr>\n",
              "      <th>bathrooms</th>\n",
              "      <td>-0.46</td>\n",
              "      <td>3.35</td>\n",
              "      <td>-3.04</td>\n",
              "      <td>-0.02</td>\n",
              "      <td>-0.68</td>\n",
              "      <td>0.01</td>\n",
              "      <td>-0.04</td>\n",
              "      <td>-0.15</td>\n",
              "      <td>-0.29</td>\n",
              "      <td>1.49</td>\n",
              "      <td>0.39</td>\n",
              "      <td>0.02</td>\n",
              "      <td>0.08</td>\n",
              "      <td>0.08</td>\n",
              "      <td>-0.90</td>\n",
              "    </tr>\n",
              "    <tr>\n",
              "      <th>sqft_living</th>\n",
              "      <td>-0.63</td>\n",
              "      <td>-3.04</td>\n",
              "      <td>18145999825646.47</td>\n",
              "      <td>-0.07</td>\n",
              "      <td>2.75</td>\n",
              "      <td>-0.07</td>\n",
              "      <td>-0.03</td>\n",
              "      <td>-0.24</td>\n",
              "      <td>-1.95</td>\n",
              "      <td>-16360805928278.62</td>\n",
              "      <td>-8743992385412.18</td>\n",
              "      <td>-0.52</td>\n",
              "      <td>-1.03</td>\n",
              "      <td>-0.02</td>\n",
              "      <td>0.25</td>\n",
              "    </tr>\n",
              "    <tr>\n",
              "      <th>sqft_lot</th>\n",
              "      <td>0.05</td>\n",
              "      <td>-0.02</td>\n",
              "      <td>-0.07</td>\n",
              "      <td>2.09</td>\n",
              "      <td>0.06</td>\n",
              "      <td>0.03</td>\n",
              "      <td>-0.06</td>\n",
              "      <td>0.03</td>\n",
              "      <td>-0.01</td>\n",
              "      <td>-0.17</td>\n",
              "      <td>0.00</td>\n",
              "      <td>0.06</td>\n",
              "      <td>0.14</td>\n",
              "      <td>-1.47</td>\n",
              "      <td>0.05</td>\n",
              "    </tr>\n",
              "    <tr>\n",
              "      <th>floors</th>\n",
              "      <td>0.05</td>\n",
              "      <td>-0.68</td>\n",
              "      <td>2.75</td>\n",
              "      <td>0.06</td>\n",
              "      <td>1.99</td>\n",
              "      <td>-0.01</td>\n",
              "      <td>-0.03</td>\n",
              "      <td>0.09</td>\n",
              "      <td>-0.30</td>\n",
              "      <td>-2.93</td>\n",
              "      <td>-0.72</td>\n",
              "      <td>-0.26</td>\n",
              "      <td>0.28</td>\n",
              "      <td>0.09</td>\n",
              "      <td>-0.40</td>\n",
              "    </tr>\n",
              "    <tr>\n",
              "      <th>waterfront</th>\n",
              "      <td>0.06</td>\n",
              "      <td>0.01</td>\n",
              "      <td>-0.07</td>\n",
              "      <td>0.03</td>\n",
              "      <td>-0.01</td>\n",
              "      <td>1.20</td>\n",
              "      <td>-0.50</td>\n",
              "      <td>-0.01</td>\n",
              "      <td>0.05</td>\n",
              "      <td>-0.05</td>\n",
              "      <td>0.03</td>\n",
              "      <td>0.01</td>\n",
              "      <td>0.07</td>\n",
              "      <td>-0.02</td>\n",
              "      <td>-0.01</td>\n",
              "    </tr>\n",
              "    <tr>\n",
              "      <th>view</th>\n",
              "      <td>0.11</td>\n",
              "      <td>-0.04</td>\n",
              "      <td>-0.03</td>\n",
              "      <td>-0.06</td>\n",
              "      <td>-0.03</td>\n",
              "      <td>-0.50</td>\n",
              "      <td>1.41</td>\n",
              "      <td>-0.03</td>\n",
              "      <td>-0.16</td>\n",
              "      <td>0.05</td>\n",
              "      <td>-0.25</td>\n",
              "      <td>-0.15</td>\n",
              "      <td>-0.29</td>\n",
              "      <td>-0.00</td>\n",
              "      <td>0.12</td>\n",
              "    </tr>\n",
              "    <tr>\n",
              "      <th>condition</th>\n",
              "      <td>-0.05</td>\n",
              "      <td>-0.15</td>\n",
              "      <td>-0.24</td>\n",
              "      <td>0.03</td>\n",
              "      <td>0.09</td>\n",
              "      <td>-0.01</td>\n",
              "      <td>-0.03</td>\n",
              "      <td>1.26</td>\n",
              "      <td>-0.04</td>\n",
              "      <td>0.27</td>\n",
              "      <td>0.02</td>\n",
              "      <td>0.18</td>\n",
              "      <td>0.09</td>\n",
              "      <td>-0.03</td>\n",
              "      <td>0.56</td>\n",
              "    </tr>\n",
              "    <tr>\n",
              "      <th>grade</th>\n",
              "      <td>0.32</td>\n",
              "      <td>-0.29</td>\n",
              "      <td>-1.95</td>\n",
              "      <td>-0.01</td>\n",
              "      <td>-0.30</td>\n",
              "      <td>0.05</td>\n",
              "      <td>-0.16</td>\n",
              "      <td>-0.04</td>\n",
              "      <td>3.24</td>\n",
              "      <td>0.28</td>\n",
              "      <td>0.42</td>\n",
              "      <td>-0.13</td>\n",
              "      <td>-0.88</td>\n",
              "      <td>0.11</td>\n",
              "      <td>-0.43</td>\n",
              "    </tr>\n",
              "    <tr>\n",
              "      <th>sqft_above</th>\n",
              "      <td>-0.31</td>\n",
              "      <td>1.49</td>\n",
              "      <td>-16360805928278.62</td>\n",
              "      <td>-0.17</td>\n",
              "      <td>-2.93</td>\n",
              "      <td>-0.05</td>\n",
              "      <td>0.05</td>\n",
              "      <td>0.27</td>\n",
              "      <td>0.27</td>\n",
              "      <td>14751238465491.83</td>\n",
              "      <td>7883763023843.34</td>\n",
              "      <td>0.55</td>\n",
              "      <td>-0.64</td>\n",
              "      <td>-0.19</td>\n",
              "      <td>0.13</td>\n",
              "    </tr>\n",
              "    <tr>\n",
              "      <th>sqft_basement</th>\n",
              "      <td>-0.18</td>\n",
              "      <td>0.39</td>\n",
              "      <td>-8743992385412.18</td>\n",
              "      <td>0.00</td>\n",
              "      <td>-0.72</td>\n",
              "      <td>0.03</td>\n",
              "      <td>-0.25</td>\n",
              "      <td>0.02</td>\n",
              "      <td>0.41</td>\n",
              "      <td>7883763023843.34</td>\n",
              "      <td>4213457708079.65</td>\n",
              "      <td>0.08</td>\n",
              "      <td>0.06</td>\n",
              "      <td>-0.03</td>\n",
              "      <td>0.13</td>\n",
              "    </tr>\n",
              "    <tr>\n",
              "      <th>zipcode</th>\n",
              "      <td>0.08</td>\n",
              "      <td>0.02</td>\n",
              "      <td>-0.52</td>\n",
              "      <td>0.06</td>\n",
              "      <td>-0.26</td>\n",
              "      <td>0.01</td>\n",
              "      <td>-0.15</td>\n",
              "      <td>0.18</td>\n",
              "      <td>-0.13</td>\n",
              "      <td>0.55</td>\n",
              "      <td>0.07</td>\n",
              "      <td>1.29</td>\n",
              "      <td>0.34</td>\n",
              "      <td>0.06</td>\n",
              "      <td>0.48</td>\n",
              "    </tr>\n",
              "    <tr>\n",
              "      <th>sqft_living15</th>\n",
              "      <td>0.04</td>\n",
              "      <td>0.08</td>\n",
              "      <td>-1.03</td>\n",
              "      <td>0.14</td>\n",
              "      <td>0.28</td>\n",
              "      <td>0.07</td>\n",
              "      <td>-0.29</td>\n",
              "      <td>0.09</td>\n",
              "      <td>-0.88</td>\n",
              "      <td>-0.64</td>\n",
              "      <td>0.06</td>\n",
              "      <td>0.34</td>\n",
              "      <td>2.89</td>\n",
              "      <td>-0.16</td>\n",
              "      <td>0.06</td>\n",
              "    </tr>\n",
              "    <tr>\n",
              "      <th>sqft_lot15</th>\n",
              "      <td>0.09</td>\n",
              "      <td>0.08</td>\n",
              "      <td>-0.02</td>\n",
              "      <td>-1.47</td>\n",
              "      <td>0.09</td>\n",
              "      <td>-0.02</td>\n",
              "      <td>-0.00</td>\n",
              "      <td>-0.03</td>\n",
              "      <td>0.11</td>\n",
              "      <td>-0.19</td>\n",
              "      <td>-0.03</td>\n",
              "      <td>0.06</td>\n",
              "      <td>-0.16</td>\n",
              "      <td>2.12</td>\n",
              "      <td>-0.08</td>\n",
              "    </tr>\n",
              "    <tr>\n",
              "      <th>last_modified</th>\n",
              "      <td>0.12</td>\n",
              "      <td>-0.90</td>\n",
              "      <td>0.25</td>\n",
              "      <td>0.05</td>\n",
              "      <td>-0.40</td>\n",
              "      <td>-0.01</td>\n",
              "      <td>0.12</td>\n",
              "      <td>0.56</td>\n",
              "      <td>-0.43</td>\n",
              "      <td>0.13</td>\n",
              "      <td>0.13</td>\n",
              "      <td>0.48</td>\n",
              "      <td>0.06</td>\n",
              "      <td>-0.08</td>\n",
              "      <td>2.10</td>\n",
              "    </tr>\n",
              "  </tbody>\n",
              "</table>\n",
              "</div>"
            ],
            "text/plain": [
              "               bedrooms  bathrooms  ...  sqft_lot15  last_modified\n",
              "bedrooms           1.65      -0.46  ...        0.09           0.12\n",
              "bathrooms         -0.46       3.35  ...        0.08          -0.90\n",
              "sqft_living       -0.63      -3.04  ...       -0.02           0.25\n",
              "sqft_lot           0.05      -0.02  ...       -1.47           0.05\n",
              "floors             0.05      -0.68  ...        0.09          -0.40\n",
              "waterfront         0.06       0.01  ...       -0.02          -0.01\n",
              "view               0.11      -0.04  ...       -0.00           0.12\n",
              "condition         -0.05      -0.15  ...       -0.03           0.56\n",
              "grade              0.32      -0.29  ...        0.11          -0.43\n",
              "sqft_above        -0.31       1.49  ...       -0.19           0.13\n",
              "sqft_basement     -0.18       0.39  ...       -0.03           0.13\n",
              "zipcode            0.08       0.02  ...        0.06           0.48\n",
              "sqft_living15      0.04       0.08  ...       -0.16           0.06\n",
              "sqft_lot15         0.09       0.08  ...        2.12          -0.08\n",
              "last_modified      0.12      -0.90  ...       -0.08           2.10\n",
              "\n",
              "[15 rows x 15 columns]"
            ]
          },
          "metadata": {
            "tags": []
          },
          "execution_count": 24
        }
      ]
    },
    {
      "cell_type": "markdown",
      "metadata": {
        "id": "ppKTmDxx_UVn"
      },
      "source": [
        "The VIF scores of 'sqft_living', 'sqft_above', and 'sqft_basement', are very high. Let's see how the scores improve when we remove 'sqft_living' from the dataset"
      ]
    },
    {
      "cell_type": "code",
      "metadata": {
        "colab": {
          "base_uri": "https://localhost:8080/",
          "height": 498
        },
        "id": "Lng6qqkHfrY_",
        "outputId": "fb3205c8-75e3-4b1e-82b8-ea26b9152c59"
      },
      "source": [
        "# drop columns \n",
        "revised = hass.drop(['price', 'sqft_living'], axis=1)\n",
        "# compute the pearson correlation values\n",
        "correlations = revised.corr()\n",
        "# create a dataframe that shows the VIF scores of the variables\n",
        "pd.DataFrame(np.linalg.inv(correlations.values), index = correlations.index, columns=correlations.columns)"
      ],
      "execution_count": null,
      "outputs": [
        {
          "output_type": "execute_result",
          "data": {
            "text/html": [
              "<div>\n",
              "<style scoped>\n",
              "    .dataframe tbody tr th:only-of-type {\n",
              "        vertical-align: middle;\n",
              "    }\n",
              "\n",
              "    .dataframe tbody tr th {\n",
              "        vertical-align: top;\n",
              "    }\n",
              "\n",
              "    .dataframe thead th {\n",
              "        text-align: right;\n",
              "    }\n",
              "</style>\n",
              "<table border=\"1\" class=\"dataframe\">\n",
              "  <thead>\n",
              "    <tr style=\"text-align: right;\">\n",
              "      <th></th>\n",
              "      <th>bedrooms</th>\n",
              "      <th>bathrooms</th>\n",
              "      <th>sqft_lot</th>\n",
              "      <th>floors</th>\n",
              "      <th>waterfront</th>\n",
              "      <th>view</th>\n",
              "      <th>condition</th>\n",
              "      <th>grade</th>\n",
              "      <th>sqft_above</th>\n",
              "      <th>sqft_basement</th>\n",
              "      <th>zipcode</th>\n",
              "      <th>sqft_living15</th>\n",
              "      <th>sqft_lot15</th>\n",
              "      <th>last_modified</th>\n",
              "    </tr>\n",
              "  </thead>\n",
              "  <tbody>\n",
              "    <tr>\n",
              "      <th>bedrooms</th>\n",
              "      <td>1.65</td>\n",
              "      <td>-0.46</td>\n",
              "      <td>0.05</td>\n",
              "      <td>0.05</td>\n",
              "      <td>0.06</td>\n",
              "      <td>0.11</td>\n",
              "      <td>-0.05</td>\n",
              "      <td>0.32</td>\n",
              "      <td>-0.88</td>\n",
              "      <td>-0.48</td>\n",
              "      <td>0.08</td>\n",
              "      <td>0.04</td>\n",
              "      <td>0.09</td>\n",
              "      <td>0.12</td>\n",
              "    </tr>\n",
              "    <tr>\n",
              "      <th>bathrooms</th>\n",
              "      <td>-0.46</td>\n",
              "      <td>3.35</td>\n",
              "      <td>-0.02</td>\n",
              "      <td>-0.68</td>\n",
              "      <td>0.01</td>\n",
              "      <td>-0.04</td>\n",
              "      <td>-0.15</td>\n",
              "      <td>-0.29</td>\n",
              "      <td>-1.25</td>\n",
              "      <td>-1.07</td>\n",
              "      <td>0.02</td>\n",
              "      <td>0.08</td>\n",
              "      <td>0.08</td>\n",
              "      <td>-0.90</td>\n",
              "    </tr>\n",
              "    <tr>\n",
              "      <th>sqft_lot</th>\n",
              "      <td>0.05</td>\n",
              "      <td>-0.02</td>\n",
              "      <td>2.09</td>\n",
              "      <td>0.06</td>\n",
              "      <td>0.03</td>\n",
              "      <td>-0.06</td>\n",
              "      <td>0.03</td>\n",
              "      <td>-0.01</td>\n",
              "      <td>-0.23</td>\n",
              "      <td>-0.03</td>\n",
              "      <td>0.06</td>\n",
              "      <td>0.14</td>\n",
              "      <td>-1.47</td>\n",
              "      <td>0.05</td>\n",
              "    </tr>\n",
              "    <tr>\n",
              "      <th>floors</th>\n",
              "      <td>0.05</td>\n",
              "      <td>-0.68</td>\n",
              "      <td>0.06</td>\n",
              "      <td>1.99</td>\n",
              "      <td>-0.01</td>\n",
              "      <td>-0.03</td>\n",
              "      <td>0.09</td>\n",
              "      <td>-0.30</td>\n",
              "      <td>-0.45</td>\n",
              "      <td>0.60</td>\n",
              "      <td>-0.26</td>\n",
              "      <td>0.28</td>\n",
              "      <td>0.09</td>\n",
              "      <td>-0.40</td>\n",
              "    </tr>\n",
              "    <tr>\n",
              "      <th>waterfront</th>\n",
              "      <td>0.06</td>\n",
              "      <td>0.01</td>\n",
              "      <td>0.03</td>\n",
              "      <td>-0.01</td>\n",
              "      <td>1.20</td>\n",
              "      <td>-0.50</td>\n",
              "      <td>-0.01</td>\n",
              "      <td>0.05</td>\n",
              "      <td>-0.11</td>\n",
              "      <td>-0.01</td>\n",
              "      <td>0.01</td>\n",
              "      <td>0.07</td>\n",
              "      <td>-0.02</td>\n",
              "      <td>-0.01</td>\n",
              "    </tr>\n",
              "    <tr>\n",
              "      <th>view</th>\n",
              "      <td>0.11</td>\n",
              "      <td>-0.04</td>\n",
              "      <td>-0.06</td>\n",
              "      <td>-0.03</td>\n",
              "      <td>-0.50</td>\n",
              "      <td>1.41</td>\n",
              "      <td>-0.03</td>\n",
              "      <td>-0.16</td>\n",
              "      <td>0.02</td>\n",
              "      <td>-0.27</td>\n",
              "      <td>-0.15</td>\n",
              "      <td>-0.29</td>\n",
              "      <td>-0.00</td>\n",
              "      <td>0.12</td>\n",
              "    </tr>\n",
              "    <tr>\n",
              "      <th>condition</th>\n",
              "      <td>-0.05</td>\n",
              "      <td>-0.15</td>\n",
              "      <td>0.03</td>\n",
              "      <td>0.09</td>\n",
              "      <td>-0.01</td>\n",
              "      <td>-0.03</td>\n",
              "      <td>1.26</td>\n",
              "      <td>-0.04</td>\n",
              "      <td>0.05</td>\n",
              "      <td>-0.09</td>\n",
              "      <td>0.18</td>\n",
              "      <td>0.09</td>\n",
              "      <td>-0.03</td>\n",
              "      <td>0.56</td>\n",
              "    </tr>\n",
              "    <tr>\n",
              "      <th>grade</th>\n",
              "      <td>0.32</td>\n",
              "      <td>-0.29</td>\n",
              "      <td>-0.01</td>\n",
              "      <td>-0.30</td>\n",
              "      <td>0.05</td>\n",
              "      <td>-0.16</td>\n",
              "      <td>-0.04</td>\n",
              "      <td>3.24</td>\n",
              "      <td>-1.48</td>\n",
              "      <td>-0.52</td>\n",
              "      <td>-0.13</td>\n",
              "      <td>-0.88</td>\n",
              "      <td>0.11</td>\n",
              "      <td>-0.43</td>\n",
              "    </tr>\n",
              "    <tr>\n",
              "      <th>sqft_above</th>\n",
              "      <td>-0.88</td>\n",
              "      <td>-1.25</td>\n",
              "      <td>-0.23</td>\n",
              "      <td>-0.45</td>\n",
              "      <td>-0.11</td>\n",
              "      <td>0.02</td>\n",
              "      <td>0.05</td>\n",
              "      <td>-1.48</td>\n",
              "      <td>4.82</td>\n",
              "      <td>1.36</td>\n",
              "      <td>0.08</td>\n",
              "      <td>-1.57</td>\n",
              "      <td>-0.21</td>\n",
              "      <td>0.35</td>\n",
              "    </tr>\n",
              "    <tr>\n",
              "      <th>sqft_basement</th>\n",
              "      <td>-0.48</td>\n",
              "      <td>-1.07</td>\n",
              "      <td>-0.03</td>\n",
              "      <td>0.60</td>\n",
              "      <td>-0.01</td>\n",
              "      <td>-0.27</td>\n",
              "      <td>-0.09</td>\n",
              "      <td>-0.52</td>\n",
              "      <td>1.36</td>\n",
              "      <td>1.98</td>\n",
              "      <td>-0.18</td>\n",
              "      <td>-0.44</td>\n",
              "      <td>-0.04</td>\n",
              "      <td>0.25</td>\n",
              "    </tr>\n",
              "    <tr>\n",
              "      <th>zipcode</th>\n",
              "      <td>0.08</td>\n",
              "      <td>0.02</td>\n",
              "      <td>0.06</td>\n",
              "      <td>-0.26</td>\n",
              "      <td>0.01</td>\n",
              "      <td>-0.15</td>\n",
              "      <td>0.18</td>\n",
              "      <td>-0.13</td>\n",
              "      <td>0.08</td>\n",
              "      <td>-0.18</td>\n",
              "      <td>1.29</td>\n",
              "      <td>0.34</td>\n",
              "      <td>0.06</td>\n",
              "      <td>0.48</td>\n",
              "    </tr>\n",
              "    <tr>\n",
              "      <th>sqft_living15</th>\n",
              "      <td>0.04</td>\n",
              "      <td>0.08</td>\n",
              "      <td>0.14</td>\n",
              "      <td>0.28</td>\n",
              "      <td>0.07</td>\n",
              "      <td>-0.29</td>\n",
              "      <td>0.09</td>\n",
              "      <td>-0.88</td>\n",
              "      <td>-1.57</td>\n",
              "      <td>-0.44</td>\n",
              "      <td>0.34</td>\n",
              "      <td>2.89</td>\n",
              "      <td>-0.16</td>\n",
              "      <td>0.06</td>\n",
              "    </tr>\n",
              "    <tr>\n",
              "      <th>sqft_lot15</th>\n",
              "      <td>0.09</td>\n",
              "      <td>0.08</td>\n",
              "      <td>-1.47</td>\n",
              "      <td>0.09</td>\n",
              "      <td>-0.02</td>\n",
              "      <td>-0.00</td>\n",
              "      <td>-0.03</td>\n",
              "      <td>0.11</td>\n",
              "      <td>-0.21</td>\n",
              "      <td>-0.04</td>\n",
              "      <td>0.06</td>\n",
              "      <td>-0.16</td>\n",
              "      <td>2.12</td>\n",
              "      <td>-0.08</td>\n",
              "    </tr>\n",
              "    <tr>\n",
              "      <th>last_modified</th>\n",
              "      <td>0.12</td>\n",
              "      <td>-0.90</td>\n",
              "      <td>0.05</td>\n",
              "      <td>-0.40</td>\n",
              "      <td>-0.01</td>\n",
              "      <td>0.12</td>\n",
              "      <td>0.56</td>\n",
              "      <td>-0.43</td>\n",
              "      <td>0.35</td>\n",
              "      <td>0.25</td>\n",
              "      <td>0.48</td>\n",
              "      <td>0.06</td>\n",
              "      <td>-0.08</td>\n",
              "      <td>2.10</td>\n",
              "    </tr>\n",
              "  </tbody>\n",
              "</table>\n",
              "</div>"
            ],
            "text/plain": [
              "               bedrooms  bathrooms  ...  sqft_lot15  last_modified\n",
              "bedrooms           1.65      -0.46  ...        0.09           0.12\n",
              "bathrooms         -0.46       3.35  ...        0.08          -0.90\n",
              "sqft_lot           0.05      -0.02  ...       -1.47           0.05\n",
              "floors             0.05      -0.68  ...        0.09          -0.40\n",
              "waterfront         0.06       0.01  ...       -0.02          -0.01\n",
              "view               0.11      -0.04  ...       -0.00           0.12\n",
              "condition         -0.05      -0.15  ...       -0.03           0.56\n",
              "grade              0.32      -0.29  ...        0.11          -0.43\n",
              "sqft_above        -0.88      -1.25  ...       -0.21           0.35\n",
              "sqft_basement     -0.48      -1.07  ...       -0.04           0.25\n",
              "zipcode            0.08       0.02  ...        0.06           0.48\n",
              "sqft_living15      0.04       0.08  ...       -0.16           0.06\n",
              "sqft_lot15         0.09       0.08  ...        2.12          -0.08\n",
              "last_modified      0.12      -0.90  ...       -0.08           2.10\n",
              "\n",
              "[14 rows x 14 columns]"
            ]
          },
          "metadata": {
            "tags": []
          },
          "execution_count": 25
        }
      ]
    },
    {
      "cell_type": "markdown",
      "metadata": {
        "id": "qWrCacvwCRjw"
      },
      "source": [
        "As much as multicollinearity is still present after dropping 'sqft_living', the scores are within the acceptable range of collinearity; therefore, we will use the remaining variables in creating the linear regression model."
      ]
    },
    {
      "cell_type": "markdown",
      "metadata": {
        "id": "LpSmII4tGUyj"
      },
      "source": [
        "### Modelling"
      ]
    },
    {
      "cell_type": "code",
      "metadata": {
        "id": "aULPJXKXcHWt"
      },
      "source": [
        "# Preparing the Data\n",
        "\n",
        "# divide the data into \"attributes\" and \"labels\" by assigning the attributes to variable X and the label to variable y \n",
        "X = hass.drop(['price', 'sqft_living'], axis=1)\n",
        "y = hass[\"price\"]\n",
        "\n",
        "# scaling the data \n",
        "from sklearn.preprocessing import StandardScaler\n",
        "scaler = StandardScaler()\n",
        "scaler.fit(X)\n",
        "X = scaler.transform(X)\n",
        "\n",
        "# normalizing the y variable\n",
        "y = np.log(y)\n",
        "\n",
        "from sklearn.preprocessing import MinMaxScaler\n",
        "\n",
        "#scaled_data = MinMaxScaler()\n",
        "#X = scaler.fit_transform(X)\n",
        "\n",
        "# Splitting our Data into Training and Test sets\n",
        "\n",
        "# import train_test_split for the splitting of the data\n",
        "from sklearn.model_selection import train_test_split\n",
        "\n",
        "# split this data into training and test sets\n",
        "X_train, X_test, y_train, y_test = train_test_split(X, y, test_size=0.2, random_state=30)\n",
        "# the script above splits 80% of the data to training set and 20% of the data to test set"
      ],
      "execution_count": null,
      "outputs": []
    },
    {
      "cell_type": "code",
      "metadata": {
        "colab": {
          "base_uri": "https://localhost:8080/"
        },
        "id": "oWAggaJvisYi",
        "outputId": "810350d2-493f-42a8-addf-903ffd852219"
      },
      "source": [
        "# Training the Algorithm\n",
        "\n",
        "# import the desired model, in this this case we are importing linear regression model\n",
        "from sklearn.linear_model import LinearRegression\n",
        "\n",
        "# instantiate the model\n",
        "linear = LinearRegression()\n",
        "\n",
        "# train the algorithm by fitting it to our training data \n",
        "linear.fit(X_train, y_train)"
      ],
      "execution_count": null,
      "outputs": [
        {
          "output_type": "execute_result",
          "data": {
            "text/plain": [
              "LinearRegression(copy_X=True, fit_intercept=True, n_jobs=None, normalize=False)"
            ]
          },
          "metadata": {
            "tags": []
          },
          "execution_count": 51
        }
      ]
    },
    {
      "cell_type": "code",
      "metadata": {
        "colab": {
          "base_uri": "https://localhost:8080/"
        },
        "id": "s-3guzjtLouO",
        "outputId": "f79e7a2a-f679-4bd0-f6cd-90d227c12fc4"
      },
      "source": [
        "# print the regressor intercept and coefficients for the predictor variables.\n",
        "print('Intercept: ',linear.intercept_)\n",
        "print('Coefficients: ',linear.coef_)"
      ],
      "execution_count": null,
      "outputs": [
        {
          "output_type": "stream",
          "text": [
            "Intercept:  13.04840410439029\n",
            "Coefficients:  [-0.02070207  0.0531321   0.01205266  0.05675014  0.03447565  0.03111442\n",
            "  0.03158913  0.23515834  0.09573949  0.08813786  0.02854856  0.07443215\n",
            " -0.01433766 -0.12796079]\n"
          ],
          "name": "stdout"
        }
      ]
    },
    {
      "cell_type": "code",
      "metadata": {
        "colab": {
          "base_uri": "https://localhost:8080/",
          "height": 355
        },
        "id": "HMjD85zF1NSn",
        "outputId": "25189ee7-b762-4351-d64f-7b48e41edf2e"
      },
      "source": [
        "# Making Predictions\n",
        "\n",
        "# obtain the trained model's predictions of the based on X_test \n",
        "y_pred = linear.predict(X_test) # the y_pred is a numpy array that contains all the predicted values\n",
        "error= (y_pred-y_test)\n",
        "\n",
        "# create a dataframe that compares the actual output values for X_test with the predicted values\n",
        "df = pd.DataFrame({'Actual': y_test, 'Prediction': y_pred, 'Error':error})\n",
        "\n",
        "# display top 10 records in the comparison dataframe\n",
        "df.head(10)"
      ],
      "execution_count": null,
      "outputs": [
        {
          "output_type": "execute_result",
          "data": {
            "text/html": [
              "<div>\n",
              "<style scoped>\n",
              "    .dataframe tbody tr th:only-of-type {\n",
              "        vertical-align: middle;\n",
              "    }\n",
              "\n",
              "    .dataframe tbody tr th {\n",
              "        vertical-align: top;\n",
              "    }\n",
              "\n",
              "    .dataframe thead th {\n",
              "        text-align: right;\n",
              "    }\n",
              "</style>\n",
              "<table border=\"1\" class=\"dataframe\">\n",
              "  <thead>\n",
              "    <tr style=\"text-align: right;\">\n",
              "      <th></th>\n",
              "      <th>Actual</th>\n",
              "      <th>Prediction</th>\n",
              "      <th>Error</th>\n",
              "    </tr>\n",
              "  </thead>\n",
              "  <tbody>\n",
              "    <tr>\n",
              "      <th>0</th>\n",
              "      <td>12.78</td>\n",
              "      <td>12.94</td>\n",
              "      <td>0.17</td>\n",
              "    </tr>\n",
              "    <tr>\n",
              "      <th>1</th>\n",
              "      <td>12.86</td>\n",
              "      <td>13.06</td>\n",
              "      <td>0.20</td>\n",
              "    </tr>\n",
              "    <tr>\n",
              "      <th>2</th>\n",
              "      <td>12.43</td>\n",
              "      <td>12.47</td>\n",
              "      <td>0.04</td>\n",
              "    </tr>\n",
              "    <tr>\n",
              "      <th>3</th>\n",
              "      <td>12.90</td>\n",
              "      <td>13.28</td>\n",
              "      <td>0.38</td>\n",
              "    </tr>\n",
              "    <tr>\n",
              "      <th>4</th>\n",
              "      <td>13.37</td>\n",
              "      <td>13.08</td>\n",
              "      <td>-0.29</td>\n",
              "    </tr>\n",
              "    <tr>\n",
              "      <th>5</th>\n",
              "      <td>13.48</td>\n",
              "      <td>12.97</td>\n",
              "      <td>-0.51</td>\n",
              "    </tr>\n",
              "    <tr>\n",
              "      <th>6</th>\n",
              "      <td>12.25</td>\n",
              "      <td>12.95</td>\n",
              "      <td>0.70</td>\n",
              "    </tr>\n",
              "    <tr>\n",
              "      <th>7</th>\n",
              "      <td>12.54</td>\n",
              "      <td>13.00</td>\n",
              "      <td>0.45</td>\n",
              "    </tr>\n",
              "    <tr>\n",
              "      <th>8</th>\n",
              "      <td>12.70</td>\n",
              "      <td>13.04</td>\n",
              "      <td>0.34</td>\n",
              "    </tr>\n",
              "    <tr>\n",
              "      <th>9</th>\n",
              "      <td>12.87</td>\n",
              "      <td>12.96</td>\n",
              "      <td>0.09</td>\n",
              "    </tr>\n",
              "  </tbody>\n",
              "</table>\n",
              "</div>"
            ],
            "text/plain": [
              "   Actual  Prediction  Error\n",
              "0   12.78       12.94   0.17\n",
              "1   12.86       13.06   0.20\n",
              "2   12.43       12.47   0.04\n",
              "3   12.90       13.28   0.38\n",
              "4   13.37       13.08  -0.29\n",
              "5   13.48       12.97  -0.51\n",
              "6   12.25       12.95   0.70\n",
              "7   12.54       13.00   0.45\n",
              "8   12.70       13.04   0.34\n",
              "9   12.87       12.96   0.09"
            ]
          },
          "metadata": {
            "tags": []
          },
          "execution_count": 53
        }
      ]
    },
    {
      "cell_type": "code",
      "metadata": {
        "colab": {
          "base_uri": "https://localhost:8080/"
        },
        "id": "1g3QkIY2H-uh",
        "outputId": "b867c4d8-5cb5-4406-838e-2d450f533def"
      },
      "source": [
        "# Evaluating the Algorithm\n",
        "\n",
        "# import metrics\n",
        "from sklearn import metrics\n",
        "\n",
        "# evaluate the performance of the model by computing the MAE, MSE, and RMSE scores\n",
        "#print('R Squared Score:', r2_score(y_test, y_pred))\n",
        "print('Mean Absolute Error:', metrics.mean_absolute_error(y_test, y_pred))\n",
        "print('Mean Squared Error:',(metrics.mean_squared_error(y_test, y_pred)))\n",
        "print('Root Mean Squared Error:', (np.sqrt(metrics.mean_squared_error(y_test, y_pred))))"
      ],
      "execution_count": null,
      "outputs": [
        {
          "output_type": "stream",
          "text": [
            "Mean Absolute Error: 0.25204052926898407\n",
            "Mean Squared Error: 0.09984879921745113\n",
            "Root Mean Squared Error: 0.3159886061513154\n"
          ],
          "name": "stdout"
        }
      ]
    },
    {
      "cell_type": "markdown",
      "metadata": {
        "id": "hRum0FHwbb7F"
      },
      "source": [
        "The RMSE score is less than 10% of the mean of all house prices meaning that out model is good at predicting house prices given the predictive variables  \n",
        "  "
      ]
    },
    {
      "cell_type": "markdown",
      "metadata": {
        "id": "WgmEjt_3Yhky"
      },
      "source": [
        "### Residuals plot"
      ]
    },
    {
      "cell_type": "code",
      "metadata": {
        "colab": {
          "base_uri": "https://localhost:8080/"
        },
        "id": "S2OT6fYYxP1e",
        "outputId": "35124f5d-56f3-467b-ae34-195ae84f423f"
      },
      "source": [
        "#Step 1\n",
        "# create the residual by subtracting the test value from the predicted value\n",
        "residuals = np.subtract(y_pred, y_test)\n",
        "\n",
        "#Step 2\n",
        "# statistical description\n",
        "residual = pd.DataFrame(residuals).describe()\n",
        "\n",
        "#Step 3\n",
        "# compute the mean of the residuals \n",
        "residuals.mean()"
      ],
      "execution_count": null,
      "outputs": [
        {
          "output_type": "execute_result",
          "data": {
            "text/plain": [
              "0.002724279013697073"
            ]
          },
          "metadata": {
            "tags": []
          },
          "execution_count": 55
        }
      ]
    },
    {
      "cell_type": "code",
      "metadata": {
        "colab": {
          "base_uri": "https://localhost:8080/",
          "height": 303
        },
        "id": "fOxKRVO9xP1f",
        "outputId": "f9173b8d-3f60-4c0e-f960-63614d8eb344"
      },
      "source": [
        "#Step 4\n",
        "# create residual scatter plot of residuals vs predicted values\n",
        "plt.scatter(y_pred, residuals, color = 'darkblue')\n",
        "\n",
        "plt.title('Residuals vs Predicted Values', fontsize = 18,)\n",
        "plt.ylabel('Residuals', fontsize = 14)\n",
        "plt.xlabel('Predicted house prices', fontsize = 14)\n",
        "plt.axhline(y = residuals.mean(), color = 'r', linewidth = 1)\n",
        "plt.show()"
      ],
      "execution_count": null,
      "outputs": [
        {
          "output_type": "display_data",
          "data": {
            "image/png": "[encoded data removed]",
            "text/plain": [
              "<Figure size 432x288 with 1 Axes>"
            ]
          },
          "metadata": {
            "tags": [],
            "needs_background": "light"
          }
        }
      ]
    },
    {
      "cell_type": "markdown",
      "metadata": {
        "id": "z_UsOwfixP1f"
      },
      "source": [
        "The residual plot show that the residuals have a normal distribution"
      ]
    },
    {
      "cell_type": "markdown",
      "metadata": {
        "id": "aOPTWbrexP1g"
      },
      "source": [
        "### Heterosedasticity test"
      ]
    },
    {
      "cell_type": "markdown",
      "metadata": {
        "id": "efWv9NkqxP1g"
      },
      "source": [
        "We will perform heteroskedasticity test using bartlett's test. The test tests the null hypothesis that the variance is equal for all our datapoints,and the alternative hypothesis that the variance is different for at least one pair of datapoints."
      ]
    },
    {
      "cell_type": "code",
      "metadata": {
        "colab": {
          "base_uri": "https://localhost:8080/"
        },
        "id": "S8ChuMESxP1g",
        "outputId": "991444df-1a7f-4d84-9b36-b5440037b911"
      },
      "source": [
        "import scipy as sp\n",
        "\n",
        "# compute the test result and p-value of the test\n",
        "test_result, p_value = sp.stats.bartlett(y_pred, residuals)\n",
        "\n",
        "# compute the critical value of the chi squared distribution\n",
        "degree_of_freedom = len(y_pred)-1\n",
        "probability = 1 - p_value\n",
        "critical_value = sp.stats.chi2.ppf(probability, degree_of_freedom)\n",
        "\n",
        "# If the test_result is greater than the critical value, reject the null hypothesis. \n",
        "# This means there are patterns to the variance of the data\n",
        "\n",
        "# Otherwise, identify no patterns, and  accept the null hypothesis \n",
        "# The variance is homogeneous across our data\n",
        "\n",
        "if(test_result > critical_value):\n",
        "    print(\"the variances are unequal, and the model should be reassessed\")\n",
        "else:\n",
        "    print(\"The variances are homogeneous!\")"
      ],
      "execution_count": null,
      "outputs": [
        {
          "output_type": "stream",
          "text": [
            "The variances are homogeneous!\n"
          ],
          "name": "stdout"
        }
      ]
    },
    {
      "cell_type": "markdown",
      "metadata": {
        "id": "u-nW7PK5aHV4"
      },
      "source": [
        "Barlett's test shows that heteroscedasticity is not an issue in our given data."
      ]
    },
    {
      "cell_type": "markdown",
      "metadata": {
        "id": "zrYEI2v701p_"
      },
      "source": [
        "### **Limitations of linear regression**\n",
        "Some of the limitations of linear regression are that predictive variables  must be independent, linear regression is sensitive to outliers, linear regression only looks at the mean of the dependent variable, and linear regression is limited to linear relationships. \n"
      ]
    },
    {
      "cell_type": "markdown",
      "metadata": {
        "id": "Ywu7L5yZ05GB"
      },
      "source": [
        "### **Recommendations**  \n",
        "Use Principal component analysis (also a dimensionality reduction technique) which is a statistical procedure to convert a set of possibly correlated predictors into a set of linearly uncorrelated variables."
      ]
    },
    {
      "cell_type": "markdown",
      "metadata": {
        "id": "EtoUEgv-po-6"
      },
      "source": [
        "## Quantile Regression  \n",
        "Quantile regression is an extension of linear regression that is used when the conditions of linear regression are not met (i.e., linearity, homoscedasticity, independence, or normality). Additionally, whereas the linear regression estimates the conditional mean of the response variable across values of the predictor variables, quantile regression estimates the conditional median of the response variable.  \n",
        "In our case of house price prediction, we will use quantile regression to predict the extent to which different house characteristics affect the prices of houses in different quantiles. We will compute the coefficients of the variables from the 10th to 100th percentiles"
      ]
    },
    {
      "cell_type": "code",
      "metadata": {
        "colab": {
          "base_uri": "https://localhost:8080/"
        },
        "id": "efv4vDZ6g92h",
        "outputId": "6d779a7b-f033-4da2-f9e7-bfbc273a33fa"
      },
      "source": [
        "hass.columns"
      ],
      "execution_count": null,
      "outputs": [
        {
          "output_type": "execute_result",
          "data": {
            "text/plain": [
              "Index(['price', 'bedrooms', 'bathrooms', 'sqft_living', 'sqft_lot', 'floors',\n",
              "       'waterfront', 'view', 'condition', 'grade', 'sqft_above',\n",
              "       'sqft_basement', 'zipcode', 'sqft_living15', 'sqft_lot15',\n",
              "       'last_modified'],\n",
              "      dtype='object')"
            ]
          },
          "metadata": {
            "tags": []
          },
          "execution_count": 150
        }
      ]
    },
    {
      "cell_type": "code",
      "metadata": {
        "colab": {
          "base_uri": "https://localhost:8080/"
        },
        "id": "_Cg_uxQhapRF",
        "outputId": "b5c2caed-8626-42d5-a97c-41fbcfcef3d0"
      },
      "source": [
        "# Defining the range of the quantiles\n",
        "quantiles = np.arange(0.1, 1.0, 0.1)\n",
        "import statsmodels.formula.api as smf\n",
        "\n",
        "mod = smf.quantreg('price ~ bedrooms + bathrooms + sqft_living + sqft_lot + floors + waterfront + view + condition + grade + sqft_above', data =hass)\n",
        "\n",
        "for qt in quantiles:\n",
        "  res = mod.fit(qt)\n",
        "  print(res.summary())"
      ],
      "execution_count": null,
      "outputs": [
        {
          "output_type": "stream",
          "text": [
            "/usr/local/lib/python3.7/dist-packages/statsmodels/regression/quantile_regression.py:192: IterationLimitWarning: Maximum number of iterations (1000) reached.\n",
            "  \") reached.\", IterationLimitWarning)\n"
          ],
          "name": "stderr"
        },
        {
          "output_type": "stream",
          "text": [
            "                         QuantReg Regression Results                          \n",
            "==============================================================================\n",
            "Dep. Variable:                  price   Pseudo R-squared:               0.2371\n",
            "Model:                       QuantReg   Bandwidth:                   2.468e+04\n",
            "Method:                 Least Squares   Sparsity:                    4.656e+05\n",
            "Date:                Mon, 17 May 2021   No. Observations:                21610\n",
            "Time:                        08:57:17   Df Residuals:                    21599\n",
            "                                        Df Model:                           10\n",
            "===============================================================================\n",
            "                  coef    std err          t      P>|t|      [0.025      0.975]\n",
            "-------------------------------------------------------------------------------\n",
            "Intercept   -3.349e+05   9296.876    -36.026      0.000   -3.53e+05   -3.17e+05\n",
            "bedrooms      -1.5e+04   1210.287    -12.395      0.000   -1.74e+04   -1.26e+04\n",
            "bathrooms     514.5398   1972.233      0.261      0.794   -3351.182    4380.262\n",
            "sqft_living    98.6393      2.981     33.094      0.000      92.797     104.481\n",
            "sqft_lot        0.1472      0.027      5.493      0.000       0.095       0.200\n",
            "floors       3.015e+04   2116.216     14.249      0.000     2.6e+04    3.43e+04\n",
            "waterfront    1.35e+05   1.22e+04     11.105      0.000    1.11e+05    1.59e+05\n",
            "view         3.032e+04   1455.437     20.830      0.000    2.75e+04    3.32e+04\n",
            "condition    2.081e+04   1456.367     14.286      0.000     1.8e+04    2.37e+04\n",
            "grade        5.547e+04   1277.217     43.432      0.000     5.3e+04     5.8e+04\n",
            "sqft_above    -28.7233      2.753    -10.432      0.000     -34.120     -23.326\n",
            "===============================================================================\n",
            "\n",
            "The condition number is large, 5.6e+05. This might indicate that there are\n",
            "strong multicollinearity or other numerical problems.\n"
          ],
          "name": "stdout"
        },
        {
          "output_type": "stream",
          "text": [
            "/usr/local/lib/python3.7/dist-packages/statsmodels/regression/quantile_regression.py:192: IterationLimitWarning: Maximum number of iterations (1000) reached.\n",
            "  \") reached.\", IterationLimitWarning)\n"
          ],
          "name": "stderr"
        },
        {
          "output_type": "stream",
          "text": [
            "                         QuantReg Regression Results                          \n",
            "==============================================================================\n",
            "Dep. Variable:                  price   Pseudo R-squared:               0.2581\n",
            "Model:                       QuantReg   Bandwidth:                   2.358e+04\n",
            "Method:                 Least Squares   Sparsity:                    4.201e+05\n",
            "Date:                Mon, 17 May 2021   No. Observations:                21610\n",
            "Time:                        08:57:20   Df Residuals:                    21599\n",
            "                                        Df Model:                           10\n",
            "===============================================================================\n",
            "                  coef    std err          t      P>|t|      [0.025      0.975]\n",
            "-------------------------------------------------------------------------------\n",
            "Intercept   -4.525e+05   1.13e+04    -40.072      0.000   -4.75e+05    -4.3e+05\n",
            "bedrooms    -2.265e+04   1441.248    -15.712      0.000   -2.55e+04   -1.98e+04\n",
            "bathrooms   -8817.0061   2395.904     -3.680      0.000   -1.35e+04   -4120.858\n",
            "sqft_living   134.0082      3.621     37.013      0.000     126.912     141.105\n",
            "sqft_lot        0.0924      0.028      3.276      0.001       0.037       0.148\n",
            "floors       2.518e+04   2683.629      9.381      0.000    1.99e+04    3.04e+04\n",
            "waterfront    1.58e+05   1.44e+04     10.970      0.000     1.3e+05    1.86e+05\n",
            "view         3.866e+04   1771.236     21.824      0.000    3.52e+04    4.21e+04\n",
            "condition    2.528e+04   1750.039     14.445      0.000    2.18e+04    2.87e+04\n",
            "grade        7.667e+04   1527.657     50.186      0.000    7.37e+04    7.97e+04\n",
            "sqft_above    -44.1253      3.376    -13.069      0.000     -50.743     -37.508\n",
            "===============================================================================\n",
            "\n",
            "The condition number is large, 5.6e+05. This might indicate that there are\n",
            "strong multicollinearity or other numerical problems.\n"
          ],
          "name": "stdout"
        },
        {
          "output_type": "stream",
          "text": [
            "/usr/local/lib/python3.7/dist-packages/statsmodels/regression/quantile_regression.py:192: IterationLimitWarning: Maximum number of iterations (1000) reached.\n",
            "  \") reached.\", IterationLimitWarning)\n"
          ],
          "name": "stderr"
        },
        {
          "output_type": "stream",
          "text": [
            "                         QuantReg Regression Results                          \n",
            "==============================================================================\n",
            "Dep. Variable:                  price   Pseudo R-squared:               0.2872\n",
            "Model:                       QuantReg   Bandwidth:                   2.431e+04\n",
            "Method:                 Least Squares   Sparsity:                    4.010e+05\n",
            "Date:                Mon, 17 May 2021   No. Observations:                21610\n",
            "Time:                        08:57:24   Df Residuals:                    21599\n",
            "                                        Df Model:                           10\n",
            "===============================================================================\n",
            "                  coef    std err          t      P>|t|      [0.025      0.975]\n",
            "-------------------------------------------------------------------------------\n",
            "Intercept   -5.436e+05   1.28e+04    -42.384      0.000   -5.69e+05   -5.18e+05\n",
            "bedrooms    -2.506e+04   1613.741    -15.527      0.000   -2.82e+04   -2.19e+04\n",
            "bathrooms    -1.85e+04   2679.432     -6.905      0.000   -2.38e+04   -1.32e+04\n",
            "sqft_living   151.6161      3.914     38.733      0.000     143.944     159.289\n",
            "sqft_lot       -0.0109      0.029     -0.376      0.707      -0.068       0.046\n",
            "floors       2.239e+04   3054.286      7.332      0.000    1.64e+04    2.84e+04\n",
            "waterfront   3.144e+05   1.59e+04     19.788      0.000    2.83e+05    3.45e+05\n",
            "view         4.379e+04   1920.421     22.801      0.000       4e+04    4.76e+04\n",
            "condition    3.332e+04   1954.498     17.049      0.000    2.95e+04    3.72e+04\n",
            "grade         9.05e+04   1725.265     52.455      0.000    8.71e+04    9.39e+04\n",
            "sqft_above    -41.3435      3.749    -11.029      0.000     -48.691     -33.996\n",
            "===============================================================================\n",
            "\n",
            "The condition number is large, 5.6e+05. This might indicate that there are\n",
            "strong multicollinearity or other numerical problems.\n"
          ],
          "name": "stdout"
        },
        {
          "output_type": "stream",
          "text": [
            "/usr/local/lib/python3.7/dist-packages/statsmodels/regression/quantile_regression.py:192: IterationLimitWarning: Maximum number of iterations (1000) reached.\n",
            "  \") reached.\", IterationLimitWarning)\n"
          ],
          "name": "stderr"
        },
        {
          "output_type": "stream",
          "text": [
            "                         QuantReg Regression Results                          \n",
            "==============================================================================\n",
            "Dep. Variable:                  price   Pseudo R-squared:               0.3165\n",
            "Model:                       QuantReg   Bandwidth:                   2.581e+04\n",
            "Method:                 Least Squares   Sparsity:                    3.910e+05\n",
            "Date:                Mon, 17 May 2021   No. Observations:                21610\n",
            "Time:                        08:57:27   Df Residuals:                    21599\n",
            "                                        Df Model:                           10\n",
            "===============================================================================\n",
            "                  coef    std err          t      P>|t|      [0.025      0.975]\n",
            "-------------------------------------------------------------------------------\n",
            "Intercept   -5.548e+05   1.39e+04    -39.830      0.000   -5.82e+05   -5.28e+05\n",
            "bedrooms      -2.8e+04   1729.321    -16.191      0.000   -3.14e+04   -2.46e+04\n",
            "bathrooms   -2.241e+04   2849.448     -7.866      0.000    -2.8e+04   -1.68e+04\n",
            "sqft_living   165.3176      4.043     40.886      0.000     157.392     173.243\n",
            "sqft_lot       -0.0833      0.030     -2.736      0.006      -0.143      -0.024\n",
            "floors       1.823e+04   3232.178      5.642      0.000    1.19e+04    2.46e+04\n",
            "waterfront   3.599e+05   1.65e+04     21.806      0.000    3.28e+05    3.92e+05\n",
            "view         5.082e+04   1989.838     25.541      0.000    4.69e+04    5.47e+04\n",
            "condition    3.904e+04   2068.882     18.869      0.000     3.5e+04    4.31e+04\n",
            "grade        9.482e+04   1852.036     51.199      0.000    9.12e+04    9.85e+04\n",
            "sqft_above    -42.9196      3.915    -10.963      0.000     -50.593     -35.246\n",
            "===============================================================================\n",
            "\n",
            "The condition number is large, 5.6e+05. This might indicate that there are\n",
            "strong multicollinearity or other numerical problems.\n"
          ],
          "name": "stdout"
        },
        {
          "output_type": "stream",
          "text": [
            "/usr/local/lib/python3.7/dist-packages/statsmodels/regression/quantile_regression.py:192: IterationLimitWarning: Maximum number of iterations (1000) reached.\n",
            "  \") reached.\", IterationLimitWarning)\n"
          ],
          "name": "stderr"
        },
        {
          "output_type": "stream",
          "text": [
            "                         QuantReg Regression Results                          \n",
            "==============================================================================\n",
            "Dep. Variable:                  price   Pseudo R-squared:               0.3439\n",
            "Model:                       QuantReg   Bandwidth:                   2.643e+04\n",
            "Method:                 Least Squares   Sparsity:                    3.824e+05\n",
            "Date:                Mon, 17 May 2021   No. Observations:                21610\n",
            "Time:                        08:57:31   Df Residuals:                    21599\n",
            "                                        Df Model:                           10\n",
            "===============================================================================\n",
            "                  coef    std err          t      P>|t|      [0.025      0.975]\n",
            "-------------------------------------------------------------------------------\n",
            "Intercept   -5.648e+05   1.44e+04    -39.154      0.000   -5.93e+05   -5.37e+05\n",
            "bedrooms    -2.755e+04   1788.396    -15.403      0.000   -3.11e+04    -2.4e+04\n",
            "bathrooms   -2.681e+04   2889.629     -9.279      0.000   -3.25e+04   -2.11e+04\n",
            "sqft_living   180.1317      3.995     45.089      0.000     172.301     187.962\n",
            "sqft_lot       -0.1331      0.032     -4.118      0.000      -0.197      -0.070\n",
            "floors       1.638e+04   3267.199      5.012      0.000    9972.098    2.28e+04\n",
            "waterfront   4.839e+05   1.65e+04     29.415      0.000    4.52e+05    5.16e+05\n",
            "view          5.68e+04   1977.506     28.724      0.000    5.29e+04    6.07e+04\n",
            "condition     4.53e+04   2098.794     21.583      0.000    4.12e+04    4.94e+04\n",
            "grade        9.671e+04   1880.477     51.427      0.000     9.3e+04       1e+05\n",
            "sqft_above    -45.5998      3.911    -11.661      0.000     -53.265     -37.935\n",
            "===============================================================================\n",
            "\n",
            "The condition number is large, 5.6e+05. This might indicate that there are\n",
            "strong multicollinearity or other numerical problems.\n"
          ],
          "name": "stdout"
        },
        {
          "output_type": "stream",
          "text": [
            "/usr/local/lib/python3.7/dist-packages/statsmodels/regression/quantile_regression.py:192: IterationLimitWarning: Maximum number of iterations (1000) reached.\n",
            "  \") reached.\", IterationLimitWarning)\n"
          ],
          "name": "stderr"
        },
        {
          "output_type": "stream",
          "text": [
            "                         QuantReg Regression Results                          \n",
            "==============================================================================\n",
            "Dep. Variable:                  price   Pseudo R-squared:               0.3703\n",
            "Model:                       QuantReg   Bandwidth:                   2.590e+04\n",
            "Method:                 Least Squares   Sparsity:                    3.880e+05\n",
            "Date:                Mon, 17 May 2021   No. Observations:                21610\n",
            "Time:                        08:57:34   Df Residuals:                    21599\n",
            "                                        Df Model:                           10\n",
            "===============================================================================\n",
            "                  coef    std err          t      P>|t|      [0.025      0.975]\n",
            "-------------------------------------------------------------------------------\n",
            "Intercept   -5.763e+05   1.49e+04    -38.559      0.000   -6.06e+05   -5.47e+05\n",
            "bedrooms    -2.543e+04   1858.732    -13.679      0.000   -2.91e+04   -2.18e+04\n",
            "bathrooms   -2.924e+04   2925.538     -9.994      0.000    -3.5e+04   -2.35e+04\n",
            "sqft_living   194.3478      3.977     48.862      0.000     186.552     202.144\n",
            "sqft_lot       -0.1222      0.034     -3.559      0.000      -0.190      -0.055\n",
            "floors       1.839e+04   3302.492      5.569      0.000    1.19e+04    2.49e+04\n",
            "waterfront   6.061e+05   1.64e+04     37.026      0.000    5.74e+05    6.38e+05\n",
            "view         6.506e+04   1957.819     33.228      0.000    6.12e+04    6.89e+04\n",
            "condition    4.916e+04   2125.564     23.127      0.000     4.5e+04    5.33e+04\n",
            "grade        9.885e+04   1898.605     52.065      0.000    9.51e+04    1.03e+05\n",
            "sqft_above    -53.6155      3.907    -13.725      0.000     -61.273     -45.958\n",
            "===============================================================================\n",
            "\n",
            "The condition number is large, 5.6e+05. This might indicate that there are\n",
            "strong multicollinearity or other numerical problems.\n"
          ],
          "name": "stdout"
        },
        {
          "output_type": "stream",
          "text": [
            "/usr/local/lib/python3.7/dist-packages/statsmodels/regression/quantile_regression.py:192: IterationLimitWarning: Maximum number of iterations (1000) reached.\n",
            "  \") reached.\", IterationLimitWarning)\n"
          ],
          "name": "stderr"
        },
        {
          "output_type": "stream",
          "text": [
            "                         QuantReg Regression Results                          \n",
            "==============================================================================\n",
            "Dep. Variable:                  price   Pseudo R-squared:               0.3934\n",
            "Model:                       QuantReg   Bandwidth:                   2.450e+04\n",
            "Method:                 Least Squares   Sparsity:                    4.608e+05\n",
            "Date:                Mon, 17 May 2021   No. Observations:                21610\n",
            "Time:                        08:57:38   Df Residuals:                    21599\n",
            "                                        Df Model:                           10\n",
            "===============================================================================\n",
            "                  coef    std err          t      P>|t|      [0.025      0.975]\n",
            "-------------------------------------------------------------------------------\n",
            "Intercept    -5.95e+05   1.75e+04    -33.917      0.000   -6.29e+05   -5.61e+05\n",
            "bedrooms    -2.542e+04   2200.238    -11.555      0.000   -2.97e+04   -2.11e+04\n",
            "bathrooms   -3.493e+04   3350.624    -10.424      0.000   -4.15e+04   -2.84e+04\n",
            "sqft_living   216.4655      4.483     48.289      0.000     207.679     225.252\n",
            "sqft_lot       -0.1257      0.041     -3.055      0.002      -0.206      -0.045\n",
            "floors       1.878e+04   3760.509      4.994      0.000    1.14e+04    2.62e+04\n",
            "waterfront    4.63e+05   1.97e+04     23.477      0.000    4.24e+05    5.02e+05\n",
            "view         7.031e+04   2148.767     32.723      0.000    6.61e+04    7.45e+04\n",
            "condition    5.398e+04   2424.228     22.267      0.000    4.92e+04    5.87e+04\n",
            "grade        1.024e+05   2158.750     47.418      0.000    9.81e+04    1.07e+05\n",
            "sqft_above    -61.8209      4.367    -14.155      0.000     -70.381     -53.261\n",
            "===============================================================================\n",
            "\n",
            "The condition number is large, 5.6e+05. This might indicate that there are\n",
            "strong multicollinearity or other numerical problems.\n"
          ],
          "name": "stdout"
        },
        {
          "output_type": "stream",
          "text": [
            "/usr/local/lib/python3.7/dist-packages/statsmodels/regression/quantile_regression.py:192: IterationLimitWarning: Maximum number of iterations (1000) reached.\n",
            "  \") reached.\", IterationLimitWarning)\n"
          ],
          "name": "stderr"
        },
        {
          "output_type": "stream",
          "text": [
            "                         QuantReg Regression Results                          \n",
            "==============================================================================\n",
            "Dep. Variable:                  price   Pseudo R-squared:               0.4214\n",
            "Model:                       QuantReg   Bandwidth:                   2.385e+04\n",
            "Method:                 Least Squares   Sparsity:                    6.502e+05\n",
            "Date:                Mon, 17 May 2021   No. Observations:                21610\n",
            "Time:                        08:57:41   Df Residuals:                    21599\n",
            "                                        Df Model:                           10\n",
            "===============================================================================\n",
            "                  coef    std err          t      P>|t|      [0.025      0.975]\n",
            "-------------------------------------------------------------------------------\n",
            "Intercept   -5.526e+05    2.3e+04    -24.020      0.000   -5.98e+05   -5.07e+05\n",
            "bedrooms    -3.064e+04   2937.424    -10.430      0.000   -3.64e+04   -2.49e+04\n",
            "bathrooms   -4.257e+04   4259.318     -9.994      0.000   -5.09e+04   -3.42e+04\n",
            "sqft_living   255.5705      5.622     45.463      0.000     244.552     266.589\n",
            "sqft_lot       -0.1350      0.057     -2.361      0.018      -0.247      -0.023\n",
            "floors       1.243e+04   4666.413      2.663      0.008    3280.599    2.16e+04\n",
            "waterfront   9.286e+05   2.25e+04     41.279      0.000    8.84e+05    9.73e+05\n",
            "view         7.593e+04   2666.998     28.471      0.000    7.07e+04    8.12e+04\n",
            "condition    4.815e+04   3086.376     15.600      0.000    4.21e+04    5.42e+04\n",
            "grade        1.035e+05   2734.806     37.842      0.000    9.81e+04    1.09e+05\n",
            "sqft_above    -62.9872      5.353    -11.767      0.000     -73.480     -52.495\n",
            "===============================================================================\n",
            "\n",
            "The condition number is large, 5.6e+05. This might indicate that there are\n",
            "strong multicollinearity or other numerical problems.\n",
            "                         QuantReg Regression Results                          \n",
            "==============================================================================\n",
            "Dep. Variable:                  price   Pseudo R-squared:               0.4701\n",
            "Model:                       QuantReg   Bandwidth:                   2.758e+04\n",
            "Method:                 Least Squares   Sparsity:                    1.191e+06\n",
            "Date:                Mon, 17 May 2021   No. Observations:                21610\n",
            "Time:                        08:57:44   Df Residuals:                    21599\n",
            "                                        Df Model:                           10\n",
            "===============================================================================\n",
            "                  coef    std err          t      P>|t|      [0.025      0.975]\n",
            "-------------------------------------------------------------------------------\n",
            "Intercept   -5.161e+05   3.54e+04    -14.596      0.000   -5.85e+05   -4.47e+05\n",
            "bedrooms     -3.86e+04   4785.300     -8.067      0.000    -4.8e+04   -2.92e+04\n",
            "bathrooms   -4.693e+04   6213.385     -7.553      0.000   -5.91e+04   -3.48e+04\n",
            "sqft_living   311.4472      8.313     37.467      0.000     295.154     327.740\n",
            "sqft_lot       -0.2189      0.096     -2.273      0.023      -0.408      -0.030\n",
            "floors      -1.383e+04   6807.894     -2.032      0.042   -2.72e+04    -490.164\n",
            "waterfront   1.035e+06   3.12e+04     33.181      0.000    9.74e+05     1.1e+06\n",
            "view         1.191e+05   3630.614     32.792      0.000    1.12e+05    1.26e+05\n",
            "condition    4.522e+04   4502.622     10.042      0.000    3.64e+04     5.4e+04\n",
            "grade        1.029e+05   4004.383     25.696      0.000     9.5e+04    1.11e+05\n",
            "sqft_above    -35.6192      7.568     -4.707      0.000     -50.452     -20.786\n",
            "===============================================================================\n",
            "\n",
            "The condition number is large, 5.6e+05. This might indicate that there are\n",
            "strong multicollinearity or other numerical problems.\n"
          ],
          "name": "stdout"
        },
        {
          "output_type": "stream",
          "text": [
            "/usr/local/lib/python3.7/dist-packages/statsmodels/regression/quantile_regression.py:192: IterationLimitWarning: Maximum number of iterations (1000) reached.\n",
            "  \") reached.\", IterationLimitWarning)\n"
          ],
          "name": "stderr"
        }
      ]
    },
    {
      "cell_type": "markdown",
      "metadata": {
        "id": "3S5EbznmjUyz"
      },
      "source": [
        "The coefficient results show how the house prices are affected by unit changes of the different factors in each quantile.  "
      ]
    },
    {
      "cell_type": "markdown",
      "metadata": {
        "id": "SDA95gSepwoI"
      },
      "source": [
        "## Ridge regression  \n",
        "In addition to being able to tackle multicollinearity, ridge regression  allows us to regularize coefficient estimates made by linear regression. This means that the estimated coefficients are pushed towards 0, to make them work better on new data-sets (\"optimized for prediction\"), hence, allows us to use complex models and avoid over-fitting at the same time."
      ]
    },
    {
      "cell_type": "code",
      "metadata": {
        "id": "mASLZbS-tIll"
      },
      "source": [
        "# Preparing the Data\n",
        "\n",
        "# divide the data into \"attributes\" and \"labels\" by assigning the attributes to variable X and the label to variable y \n",
        "X = hass.drop(['price'], axis=1).values\n",
        "y = hass[\"price\"].values\n",
        "\n",
        "# Scaling the data \n",
        "from sklearn.preprocessing import StandardScaler\n",
        "scaler = StandardScaler()\n",
        "scaler.fit(X)\n",
        "X = scaler.transform(X)\n",
        "\n",
        "# Normalizing the y variable\n",
        "y = np.log(y)\n",
        "\n",
        "\n",
        "# Splitting our Data into Training and Test sets\n",
        "\n",
        "# import train_test_split for the splitting of the data\n",
        "from sklearn.model_selection import train_test_split\n",
        "\n",
        "# split this data into training and test sets\n",
        "X_train, X_test, y_train, y_test = train_test_split(X, y, test_size=0.2, random_state=30)\n",
        "# the script above splits 80% of the data to training set and 20% of the data to test set"
      ],
      "execution_count": null,
      "outputs": []
    },
    {
      "cell_type": "code",
      "metadata": {
        "id": "HaImX3JnqN4o"
      },
      "source": [
        "# Determine the most appropriate hyperparameter value for the l2 regularization using grid search. \n",
        "\n",
        "# Import ridge regressor \n",
        "from sklearn.linear_model import Ridge\n",
        "\n",
        "# Instantiate ridge model and indicate normalization in order to get better estimates\n",
        "ridge = Ridge(normalize=True)\n",
        "\n",
        "# Setup the grid that we will use. \n",
        "search = GridSearchCV(estimator=ridge,param_grid={'alpha':np.logspace(-5,2,8)},scoring='neg_mean_squared_error',n_jobs=1,refit=True,cv=10)"
      ],
      "execution_count": null,
      "outputs": []
    },
    {
      "cell_type": "code",
      "metadata": {
        "id": "LrLMVyuEqSnv",
        "colab": {
          "base_uri": "https://localhost:8080/"
        },
        "outputId": "e8591770-b488-4604-b5a3-ec03b2bf8053"
      },
      "source": [
        "# Use the .fit function to run the model and then use the .best_params_ and .best_scores_ function to determine the models strength. \n",
        "search.fit(X_train,y_train)\n",
        "print(search.best_params_)\n",
        "{'alpha': 0.01}\n",
        "abs(search.best_score_) \n",
        "\n",
        "# The best_params_ tells us what to set alpha to\n",
        "# The best_score_ tells us what the best possible mean squared error is"
      ],
      "execution_count": null,
      "outputs": [
        {
          "output_type": "stream",
          "text": [
            "{'alpha': 0.001}\n"
          ],
          "name": "stdout"
        },
        {
          "output_type": "execute_result",
          "data": {
            "text/plain": [
              "0.10023989467847097"
            ]
          },
          "metadata": {
            "tags": []
          },
          "execution_count": 62
        }
      ]
    },
    {
      "cell_type": "code",
      "metadata": {
        "id": "VqifjT6IqUx1",
        "colab": {
          "base_uri": "https://localhost:8080/"
        },
        "outputId": "59301a2d-4e5a-47ec-904d-b6e9e18c21a3"
      },
      "source": [
        "# Fitting our model with the recommended alpha value\n",
        "ridge = Ridge(normalize=True,alpha=0.001)\n",
        "ridge.fit(X_train,y_train)"
      ],
      "execution_count": null,
      "outputs": [
        {
          "output_type": "execute_result",
          "data": {
            "text/plain": [
              "Ridge(alpha=0.001, copy_X=True, fit_intercept=True, max_iter=None,\n",
              "      normalize=True, random_state=None, solver='auto', tol=0.001)"
            ]
          },
          "metadata": {
            "tags": []
          },
          "execution_count": 67
        }
      ]
    },
    {
      "cell_type": "code",
      "metadata": {
        "colab": {
          "base_uri": "https://localhost:8080/"
        },
        "id": "K2NfrF0c12ou",
        "outputId": "1f3c8d79-1b04-4e00-d4a7-dac891baa37c"
      },
      "source": [
        "# Finding the coefficients of the variables\n",
        "print('Coefficients: ',ridge.coef_)"
      ],
      "execution_count": null,
      "outputs": [
        {
          "output_type": "stream",
          "text": [
            "Coefficients:  [-0.02065013  0.05305137  0.06291089  0.01200999  0.05666156  0.03443846\n",
            "  0.0311888   0.03162427  0.23454062  0.03933305  0.05787214  0.02860154\n",
            "  0.07449037 -0.01431305 -0.12758813]\n"
          ],
          "name": "stdout"
        }
      ]
    },
    {
      "cell_type": "code",
      "metadata": {
        "colab": {
          "base_uri": "https://localhost:8080/",
          "height": 355
        },
        "id": "1ofTfRLl2Ig1",
        "outputId": "afb4cc80-43a8-49af-cbf1-cf45cb02cc97"
      },
      "source": [
        "# Making Predictions\n",
        "\n",
        "# obtain the trained model's predictions of the based on X_test \n",
        "y_pred = ridge.predict(X_test) # the y_pred is a numpy array that contains all the predicted values\n",
        "error= (y_pred-y_test)\n",
        "# create a dataframe that compares the actual output values for X_test with the predicted values\n",
        "df = pd.DataFrame({'Actual': y_test, 'Prediction': y_pred, 'Error':error})\n",
        "\n",
        "# display top 10 records in the comparison dataframe\n",
        "df.head(10)"
      ],
      "execution_count": null,
      "outputs": [
        {
          "output_type": "execute_result",
          "data": {
            "text/html": [
              "<div>\n",
              "<style scoped>\n",
              "    .dataframe tbody tr th:only-of-type {\n",
              "        vertical-align: middle;\n",
              "    }\n",
              "\n",
              "    .dataframe tbody tr th {\n",
              "        vertical-align: top;\n",
              "    }\n",
              "\n",
              "    .dataframe thead th {\n",
              "        text-align: right;\n",
              "    }\n",
              "</style>\n",
              "<table border=\"1\" class=\"dataframe\">\n",
              "  <thead>\n",
              "    <tr style=\"text-align: right;\">\n",
              "      <th></th>\n",
              "      <th>Actual</th>\n",
              "      <th>Prediction</th>\n",
              "      <th>Error</th>\n",
              "    </tr>\n",
              "  </thead>\n",
              "  <tbody>\n",
              "    <tr>\n",
              "      <th>0</th>\n",
              "      <td>12.78</td>\n",
              "      <td>12.94</td>\n",
              "      <td>0.17</td>\n",
              "    </tr>\n",
              "    <tr>\n",
              "      <th>1</th>\n",
              "      <td>12.86</td>\n",
              "      <td>13.06</td>\n",
              "      <td>0.20</td>\n",
              "    </tr>\n",
              "    <tr>\n",
              "      <th>2</th>\n",
              "      <td>12.43</td>\n",
              "      <td>12.47</td>\n",
              "      <td>0.04</td>\n",
              "    </tr>\n",
              "    <tr>\n",
              "      <th>3</th>\n",
              "      <td>12.90</td>\n",
              "      <td>13.28</td>\n",
              "      <td>0.38</td>\n",
              "    </tr>\n",
              "    <tr>\n",
              "      <th>4</th>\n",
              "      <td>13.37</td>\n",
              "      <td>13.08</td>\n",
              "      <td>-0.29</td>\n",
              "    </tr>\n",
              "    <tr>\n",
              "      <th>5</th>\n",
              "      <td>13.48</td>\n",
              "      <td>12.97</td>\n",
              "      <td>-0.51</td>\n",
              "    </tr>\n",
              "    <tr>\n",
              "      <th>6</th>\n",
              "      <td>12.25</td>\n",
              "      <td>12.95</td>\n",
              "      <td>0.70</td>\n",
              "    </tr>\n",
              "    <tr>\n",
              "      <th>7</th>\n",
              "      <td>12.54</td>\n",
              "      <td>13.00</td>\n",
              "      <td>0.45</td>\n",
              "    </tr>\n",
              "    <tr>\n",
              "      <th>8</th>\n",
              "      <td>12.70</td>\n",
              "      <td>13.04</td>\n",
              "      <td>0.34</td>\n",
              "    </tr>\n",
              "    <tr>\n",
              "      <th>9</th>\n",
              "      <td>12.87</td>\n",
              "      <td>12.96</td>\n",
              "      <td>0.09</td>\n",
              "    </tr>\n",
              "  </tbody>\n",
              "</table>\n",
              "</div>"
            ],
            "text/plain": [
              "   Actual  Prediction  Error\n",
              "0   12.78       12.94   0.17\n",
              "1   12.86       13.06   0.20\n",
              "2   12.43       12.47   0.04\n",
              "3   12.90       13.28   0.38\n",
              "4   13.37       13.08  -0.29\n",
              "5   13.48       12.97  -0.51\n",
              "6   12.25       12.95   0.70\n",
              "7   12.54       13.00   0.45\n",
              "8   12.70       13.04   0.34\n",
              "9   12.87       12.96   0.09"
            ]
          },
          "metadata": {
            "tags": []
          },
          "execution_count": 69
        }
      ]
    },
    {
      "cell_type": "code",
      "metadata": {
        "colab": {
          "base_uri": "https://localhost:8080/"
        },
        "id": "aOAZ9bGp2IhU",
        "outputId": "81743821-ea9b-4ae8-dcc0-c61afa5ba524"
      },
      "source": [
        "# Evaluating the Algorithm\n",
        "\n",
        "# import metrics\n",
        "from sklearn import metrics\n",
        "\n",
        "# evaluate the performance of the model by computing the MAE, MSE, and RMSE scores\n",
        "print('Mean Absolute Error:', metrics.mean_absolute_error(y_test, y_pred))\n",
        "print('Mean Squared Error:',(metrics.mean_squared_error(y_test, y_pred)))\n",
        "print('Root Mean Squared Error:', (np.sqrt(metrics.mean_squared_error(y_test, y_pred))))"
      ],
      "execution_count": null,
      "outputs": [
        {
          "output_type": "stream",
          "text": [
            "Mean Absolute Error: 0.2520615443206125\n",
            "Mean Squared Error: 0.09984884666464053\n",
            "Root Mean Squared Error: 0.3159886812286803\n"
          ],
          "name": "stdout"
        }
      ]
    },
    {
      "cell_type": "markdown",
      "metadata": {
        "id": "jBejBrPv2d2Z"
      },
      "source": [
        "Although the RMSE is reasonably low, it is slightly greater than linear regression's RMSE; meaning that linear regression model is better at predicting the house prices than the ridge regression model."
      ]
    },
    {
      "cell_type": "markdown",
      "metadata": {
        "id": "3SliS2k3T_Wr"
      },
      "source": [
        "**Limitations of ridge regression**  \n",
        "Ridge regression decreases the complexity of a model but does not reduce the number of variables since it never leads to a coefficient been zero. Hence, this model is not good for feature reduction if feature reduction is necessary. "
      ]
    },
    {
      "cell_type": "markdown",
      "metadata": {
        "id": "sN2qQ__Ap1sQ"
      },
      "source": [
        "## Lasso regression\n",
        "Whereas Ridge regression (l2 regularization) only does parameter shrinkage and end up including all the coefficients in the model, lasso regression (l1 regularization) does both variable selection and parameter shrinkage."
      ]
    },
    {
      "cell_type": "code",
      "metadata": {
        "id": "ePLl4oIi3e1U"
      },
      "source": [
        "# Preparing the Data\n",
        "\n",
        "# divide the data into \"attributes\" and \"labels\" by assigning the attributes to variable X and the label to variable y \n",
        "X = hass.drop(['price'], axis=1).values\n",
        "y = hass[\"price\"].values\n",
        "\n",
        "# Scaling the data \n",
        "from sklearn.preprocessing import StandardScaler\n",
        "scaler = StandardScaler()\n",
        "scaler.fit(X)\n",
        "X = scaler.transform(X)\n",
        "\n",
        "# Normalizing the y variable\n",
        "y = np.log(y)\n",
        "\n",
        "\n",
        "# Splitting our Data into Training and Test sets\n",
        "\n",
        "# import train_test_split for the splitting of the data\n",
        "from sklearn.model_selection import train_test_split\n",
        "\n",
        "# split this data into training and test sets\n",
        "X_train, X_test, y_train, y_test = train_test_split(X, y, test_size=0.2, random_state=30)\n",
        "# the script above splits 80% of the data to training set and 20% of the data to test set"
      ],
      "execution_count": null,
      "outputs": []
    },
    {
      "cell_type": "code",
      "metadata": {
        "id": "wRmvI6dO3e14"
      },
      "source": [
        "# Determine the most appropriate value for the l1 regularization using grid search. \n",
        "\n",
        "# Import lasso regressor \n",
        "from sklearn.linear_model import Lasso\n",
        "\n",
        "# Instantiate lasso model and indicate normalization in order to get better estimates\n",
        "lasso = Lasso(normalize=True)\n",
        "\n",
        "# Set up the grid to be used\n",
        "search_lasso = GridSearchCV(estimator=lasso,param_grid={'alpha':np.logspace(-5,2,8)},scoring='neg_mean_squared_error',n_jobs=1,refit=True,cv=10)"
      ],
      "execution_count": null,
      "outputs": []
    },
    {
      "cell_type": "code",
      "metadata": {
        "colab": {
          "base_uri": "https://localhost:8080/"
        },
        "id": "GDtOKk_h3e15",
        "outputId": "82da2f13-ff8a-4072-ce08-0174874cfb09"
      },
      "source": [
        "# Use the .fit function to run the model and then use the .best_params_ and .best_scores_ function to determine the best alpha value and the models strength.  \n",
        "search_lasso.fit(X_train,y_train)\n",
        "print(search_lasso.best_params_)\n",
        "abs(search_lasso.best_score_) \n",
        "\n",
        "# The best_params_ tells us what to set alpha to \n",
        "# The best_score_ tells us what the best possible mean squared error is"
      ],
      "execution_count": null,
      "outputs": [
        {
          "output_type": "stream",
          "text": [
            "{'alpha': 1e-05}\n"
          ],
          "name": "stdout"
        },
        {
          "output_type": "execute_result",
          "data": {
            "text/plain": [
              "0.1002680938153659"
            ]
          },
          "metadata": {
            "tags": []
          },
          "execution_count": 120
        }
      ]
    },
    {
      "cell_type": "code",
      "metadata": {
        "colab": {
          "base_uri": "https://localhost:8080/"
        },
        "id": "cCGj7On33e16",
        "outputId": "deeaf02e-3829-4ae8-dc14-2758e5b6e6de"
      },
      "source": [
        "# Fit the model using the given optimal alpha value\n",
        "lasso = Lasso(normalize=True,alpha=0.00001)\n",
        "lasso.fit(X_train,y_train)"
      ],
      "execution_count": null,
      "outputs": [
        {
          "output_type": "execute_result",
          "data": {
            "text/plain": [
              "Lasso(alpha=1e-05, copy_X=True, fit_intercept=True, max_iter=1000,\n",
              "      normalize=True, positive=False, precompute=False, random_state=None,\n",
              "      selection='cyclic', tol=0.0001, warm_start=False)"
            ]
          },
          "metadata": {
            "tags": []
          },
          "execution_count": 125
        }
      ]
    },
    {
      "cell_type": "code",
      "metadata": {
        "colab": {
          "base_uri": "https://localhost:8080/"
        },
        "id": "_TgLWaLC3e17",
        "outputId": "02ae4e8f-3f31-4295-9c87-5ee2eb79c46a"
      },
      "source": [
        "# Find the coefficients of the predictor variables\n",
        "print('Coefficients: ',lasso.coef_)"
      ],
      "execution_count": null,
      "outputs": [
        {
          "output_type": "stream",
          "text": [
            "Coefficients:  [-0.0172711   0.05086989  0.10627408  0.00742486  0.05441343  0.03344965\n",
            "  0.03151471  0.03040641  0.23502841  0.          0.03555434  0.02774932\n",
            "  0.0725709  -0.00965377 -0.12512685]\n"
          ],
          "name": "stdout"
        }
      ]
    },
    {
      "cell_type": "code",
      "metadata": {
        "colab": {
          "base_uri": "https://localhost:8080/",
          "height": 355
        },
        "id": "-H9c0aHm3e18",
        "outputId": "030260d2-ef3e-4136-c4da-b78f85f6d66d"
      },
      "source": [
        "# Making Predictions\n",
        "\n",
        "# obtain the trained model's predictions of the based on X_test \n",
        "y_pred = lasso.predict(X_test) # the y_pred is a numpy array that contains all the predicted values\n",
        "error= (y_pred-y_test)\n",
        "# create a dataframe that compares the actual output values for X_test with the predicted values\n",
        "df = pd.DataFrame({'Actual': y_test, 'Prediction': y_pred, 'Error':error})\n",
        "\n",
        "# display top 10 records in the comparison dataframe\n",
        "df.head(10)"
      ],
      "execution_count": null,
      "outputs": [
        {
          "output_type": "execute_result",
          "data": {
            "text/html": [
              "<div>\n",
              "<style scoped>\n",
              "    .dataframe tbody tr th:only-of-type {\n",
              "        vertical-align: middle;\n",
              "    }\n",
              "\n",
              "    .dataframe tbody tr th {\n",
              "        vertical-align: top;\n",
              "    }\n",
              "\n",
              "    .dataframe thead th {\n",
              "        text-align: right;\n",
              "    }\n",
              "</style>\n",
              "<table border=\"1\" class=\"dataframe\">\n",
              "  <thead>\n",
              "    <tr style=\"text-align: right;\">\n",
              "      <th></th>\n",
              "      <th>Actual</th>\n",
              "      <th>Prediction</th>\n",
              "      <th>Error</th>\n",
              "    </tr>\n",
              "  </thead>\n",
              "  <tbody>\n",
              "    <tr>\n",
              "      <th>0</th>\n",
              "      <td>12.78</td>\n",
              "      <td>12.95</td>\n",
              "      <td>0.17</td>\n",
              "    </tr>\n",
              "    <tr>\n",
              "      <th>1</th>\n",
              "      <td>12.86</td>\n",
              "      <td>13.06</td>\n",
              "      <td>0.20</td>\n",
              "    </tr>\n",
              "    <tr>\n",
              "      <th>2</th>\n",
              "      <td>12.43</td>\n",
              "      <td>12.47</td>\n",
              "      <td>0.04</td>\n",
              "    </tr>\n",
              "    <tr>\n",
              "      <th>3</th>\n",
              "      <td>12.90</td>\n",
              "      <td>13.29</td>\n",
              "      <td>0.38</td>\n",
              "    </tr>\n",
              "    <tr>\n",
              "      <th>4</th>\n",
              "      <td>13.37</td>\n",
              "      <td>13.08</td>\n",
              "      <td>-0.29</td>\n",
              "    </tr>\n",
              "    <tr>\n",
              "      <th>5</th>\n",
              "      <td>13.48</td>\n",
              "      <td>12.97</td>\n",
              "      <td>-0.51</td>\n",
              "    </tr>\n",
              "    <tr>\n",
              "      <th>6</th>\n",
              "      <td>12.25</td>\n",
              "      <td>12.96</td>\n",
              "      <td>0.70</td>\n",
              "    </tr>\n",
              "    <tr>\n",
              "      <th>7</th>\n",
              "      <td>12.54</td>\n",
              "      <td>13.00</td>\n",
              "      <td>0.45</td>\n",
              "    </tr>\n",
              "    <tr>\n",
              "      <th>8</th>\n",
              "      <td>12.70</td>\n",
              "      <td>13.04</td>\n",
              "      <td>0.34</td>\n",
              "    </tr>\n",
              "    <tr>\n",
              "      <th>9</th>\n",
              "      <td>12.87</td>\n",
              "      <td>12.96</td>\n",
              "      <td>0.09</td>\n",
              "    </tr>\n",
              "  </tbody>\n",
              "</table>\n",
              "</div>"
            ],
            "text/plain": [
              "   Actual  Prediction  Error\n",
              "0   12.78       12.95   0.17\n",
              "1   12.86       13.06   0.20\n",
              "2   12.43       12.47   0.04\n",
              "3   12.90       13.29   0.38\n",
              "4   13.37       13.08  -0.29\n",
              "5   13.48       12.97  -0.51\n",
              "6   12.25       12.96   0.70\n",
              "7   12.54       13.00   0.45\n",
              "8   12.70       13.04   0.34\n",
              "9   12.87       12.96   0.09"
            ]
          },
          "metadata": {
            "tags": []
          },
          "execution_count": 127
        }
      ]
    },
    {
      "cell_type": "code",
      "metadata": {
        "colab": {
          "base_uri": "https://localhost:8080/"
        },
        "id": "q3uGp-KO3e18",
        "outputId": "d13a8b26-55c2-4ab2-c9dd-1e226636015b"
      },
      "source": [
        "# Evaluating the Algorithm\n",
        "\n",
        "# import metrics\n",
        "from sklearn import metrics\n",
        "\n",
        "# evaluate the performance of the model by computing the MAE, MSE, and RMSE scores\n",
        "print('Mean Absolute Error:', metrics.mean_absolute_error(y_test, y_pred))\n",
        "print('Mean Squared Error:',(metrics.mean_squared_error(y_test, y_pred)))\n",
        "print('Root Mean Squared Error:', (np.sqrt(metrics.mean_squared_error(y_test, y_pred))))"
      ],
      "execution_count": null,
      "outputs": [
        {
          "output_type": "stream",
          "text": [
            "Mean Absolute Error: 0.25219381748267156\n",
            "Mean Squared Error: 0.09983067041060452\n",
            "Root Mean Squared Error: 0.3159599189938567\n"
          ],
          "name": "stdout"
        }
      ]
    },
    {
      "cell_type": "markdown",
      "metadata": {
        "id": "9-m80XOQ5fHf"
      },
      "source": [
        "Lasso's RMSE is slightly lower than both ridge's an linear's RMSEs."
      ]
    },
    {
      "cell_type": "markdown",
      "metadata": {
        "id": "YhQMhk3OSnb0"
      },
      "source": [
        "**Limitations of lasso regression**  \n",
        "* If the number of predictors is greater than the number of observations, lasso will pick a few predictors as non-zero, even if all predictors are relevant (or may be used in the test set).\n",
        "* If there are two or more highly collinear variables then LASSO regression select one of them randomly which is not good for the interpretation of data"
      ]
    },
    {
      "cell_type": "markdown",
      "metadata": {
        "id": "Uc3y1uzIp5km"
      },
      "source": [
        "## Elastic net regression\n",
        "Since the elastic net regression uses both l1 and l2 regularizations, it combines the power of ridge and lasso regression into one algorithm. What this means is that with elastic net the algorithm can remove weak variables altogether as with lasso or to reduce them to close to zero as with ridge and in most cases, it performs better than lasso and ridge regression models."
      ]
    },
    {
      "cell_type": "code",
      "metadata": {
        "id": "ow6aV3K78yK3"
      },
      "source": [
        "# Determine the optimal values for the hyperparameters using grid search \n",
        "\n",
        "# Import elastic net regressor\n",
        "from sklearn.linear_model import ElasticNet\n",
        "\n",
        "# Instantiate elastic net model and indicate normalization in order to get better estimates\n",
        "elastic=ElasticNet(normalize=True)\n",
        "\n",
        "# Set up the grid to be used\n",
        "search_elastic=GridSearchCV(estimator=elastic,param_grid={'alpha':np.logspace(-5,2,8),'l1_ratio':[.2,.4,.6,.8]},scoring='neg_mean_squared_error',n_jobs=1,refit=True,cv=10)"
      ],
      "execution_count": null,
      "outputs": []
    },
    {
      "cell_type": "code",
      "metadata": {
        "colab": {
          "base_uri": "https://localhost:8080/"
        },
        "id": "KEZb7h4X-guj",
        "outputId": "500a105c-4169-4cd9-9430-0b52db1c9cc7"
      },
      "source": [
        "# Use the .fit function to run the model and then use the .best_params_ and .best_scores_ function to determine the best alpha value and the models strength.  \n",
        "search_elastic.fit(X_train,y_train)\n",
        "print(search_elastic.best_params_)\n",
        "abs(search_elastic.best_score_) \n",
        "\n",
        "# The best_params_ tells us what to set alpha and l1_ratio to\n",
        "# The best_score_ tells us what the best possible mean squared error is"
      ],
      "execution_count": null,
      "outputs": [
        {
          "output_type": "stream",
          "text": [
            "{'alpha': 1e-05, 'l1_ratio': 0.8}\n"
          ],
          "name": "stdout"
        },
        {
          "output_type": "execute_result",
          "data": {
            "text/plain": [
              "0.10043506521486416"
            ]
          },
          "metadata": {
            "tags": []
          },
          "execution_count": 130
        }
      ]
    },
    {
      "cell_type": "code",
      "metadata": {
        "colab": {
          "base_uri": "https://localhost:8080/"
        },
        "id": "ckbxJCD_-gvI",
        "outputId": "c4580d03-db03-4a53-cd15-8265339318c7"
      },
      "source": [
        "# Fit the model using the given optimal alpha value\n",
        "elastic = ElasticNet(normalize=True, alpha=0.00001,l1_ratio=0.8)\n",
        "elastic.fit(X_train,y_train)"
      ],
      "execution_count": null,
      "outputs": [
        {
          "output_type": "execute_result",
          "data": {
            "text/plain": [
              "ElasticNet(alpha=1e-05, copy_X=True, fit_intercept=True, l1_ratio=0.8,\n",
              "           max_iter=1000, normalize=True, positive=False, precompute=False,\n",
              "           random_state=None, selection='cyclic', tol=0.0001, warm_start=False)"
            ]
          },
          "metadata": {
            "tags": []
          },
          "execution_count": 131
        }
      ]
    },
    {
      "cell_type": "code",
      "metadata": {
        "colab": {
          "base_uri": "https://localhost:8080/"
        },
        "id": "ybZ03wSg-gvJ",
        "outputId": "2426463b-78fa-45d3-f93a-3d7a8e4047ce"
      },
      "source": [
        "# Print the coefficients of the predictor variables\n",
        "print('Coefficients: ',elastic.coef_)"
      ],
      "execution_count": null,
      "outputs": [
        {
          "output_type": "stream",
          "text": [
            "Coefficients:  [-0.01605789  0.04942855  0.07218535  0.00750197  0.05232326  0.03256064\n",
            "  0.03362653  0.03154846  0.21642684  0.03866545  0.0533431   0.02928849\n",
            "  0.07498835 -0.01008004 -0.11434172]\n"
          ],
          "name": "stdout"
        }
      ]
    },
    {
      "cell_type": "code",
      "metadata": {
        "colab": {
          "base_uri": "https://localhost:8080/",
          "height": 355
        },
        "id": "p5wlPKlh-gvJ",
        "outputId": "2cc402f5-4b6b-41f6-f150-f8caab7ff26b"
      },
      "source": [
        "# Making Predictions\n",
        "\n",
        "# obtain the trained model's predictions of the based on X_test \n",
        "y_pred = elastic.predict(X_test) # the y_pred is a numpy array that contains all the predicted values\n",
        "error= (y_pred-y_test)\n",
        "# create a dataframe that compares the actual output values for X_test with the predicted values\n",
        "df = pd.DataFrame({'Actual': y_test, 'Prediction': y_pred, 'Error':error})\n",
        "\n",
        "# display top 10 records in the comparison dataframe\n",
        "df.head(10)"
      ],
      "execution_count": null,
      "outputs": [
        {
          "output_type": "execute_result",
          "data": {
            "text/html": [
              "<div>\n",
              "<style scoped>\n",
              "    .dataframe tbody tr th:only-of-type {\n",
              "        vertical-align: middle;\n",
              "    }\n",
              "\n",
              "    .dataframe tbody tr th {\n",
              "        vertical-align: top;\n",
              "    }\n",
              "\n",
              "    .dataframe thead th {\n",
              "        text-align: right;\n",
              "    }\n",
              "</style>\n",
              "<table border=\"1\" class=\"dataframe\">\n",
              "  <thead>\n",
              "    <tr style=\"text-align: right;\">\n",
              "      <th></th>\n",
              "      <th>Actual</th>\n",
              "      <th>Prediction</th>\n",
              "      <th>Error</th>\n",
              "    </tr>\n",
              "  </thead>\n",
              "  <tbody>\n",
              "    <tr>\n",
              "      <th>0</th>\n",
              "      <td>12.78</td>\n",
              "      <td>12.95</td>\n",
              "      <td>0.18</td>\n",
              "    </tr>\n",
              "    <tr>\n",
              "      <th>1</th>\n",
              "      <td>12.86</td>\n",
              "      <td>13.07</td>\n",
              "      <td>0.21</td>\n",
              "    </tr>\n",
              "    <tr>\n",
              "      <th>2</th>\n",
              "      <td>12.43</td>\n",
              "      <td>12.49</td>\n",
              "      <td>0.06</td>\n",
              "    </tr>\n",
              "    <tr>\n",
              "      <th>3</th>\n",
              "      <td>12.90</td>\n",
              "      <td>13.29</td>\n",
              "      <td>0.38</td>\n",
              "    </tr>\n",
              "    <tr>\n",
              "      <th>4</th>\n",
              "      <td>13.37</td>\n",
              "      <td>13.07</td>\n",
              "      <td>-0.30</td>\n",
              "    </tr>\n",
              "    <tr>\n",
              "      <th>5</th>\n",
              "      <td>13.48</td>\n",
              "      <td>12.98</td>\n",
              "      <td>-0.50</td>\n",
              "    </tr>\n",
              "    <tr>\n",
              "      <th>6</th>\n",
              "      <td>12.25</td>\n",
              "      <td>12.97</td>\n",
              "      <td>0.71</td>\n",
              "    </tr>\n",
              "    <tr>\n",
              "      <th>7</th>\n",
              "      <td>12.54</td>\n",
              "      <td>12.99</td>\n",
              "      <td>0.45</td>\n",
              "    </tr>\n",
              "    <tr>\n",
              "      <th>8</th>\n",
              "      <td>12.70</td>\n",
              "      <td>13.04</td>\n",
              "      <td>0.33</td>\n",
              "    </tr>\n",
              "    <tr>\n",
              "      <th>9</th>\n",
              "      <td>12.87</td>\n",
              "      <td>12.97</td>\n",
              "      <td>0.09</td>\n",
              "    </tr>\n",
              "  </tbody>\n",
              "</table>\n",
              "</div>"
            ],
            "text/plain": [
              "   Actual  Prediction  Error\n",
              "0   12.78       12.95   0.18\n",
              "1   12.86       13.07   0.21\n",
              "2   12.43       12.49   0.06\n",
              "3   12.90       13.29   0.38\n",
              "4   13.37       13.07  -0.30\n",
              "5   13.48       12.98  -0.50\n",
              "6   12.25       12.97   0.71\n",
              "7   12.54       12.99   0.45\n",
              "8   12.70       13.04   0.33\n",
              "9   12.87       12.97   0.09"
            ]
          },
          "metadata": {
            "tags": []
          },
          "execution_count": 133
        }
      ]
    },
    {
      "cell_type": "code",
      "metadata": {
        "colab": {
          "base_uri": "https://localhost:8080/"
        },
        "id": "X0DEjXKK-gvK",
        "outputId": "777c227c-50cf-4f0b-a1c0-bb6f6d169577"
      },
      "source": [
        "# Evaluating the Algorithm\n",
        "\n",
        "# import metrics\n",
        "from sklearn import metrics\n",
        "\n",
        "# evaluate the performance of the model by computing the MAE, MSE, and RMSE scores\n",
        "print('Mean Absolute Error:', metrics.mean_absolute_error(y_test, y_pred))\n",
        "print('Mean Squared Error:',(metrics.mean_squared_error(y_test, y_pred)))\n",
        "print('Root Mean Squared Error:', (np.sqrt(metrics.mean_squared_error(y_test, y_pred))))"
      ],
      "execution_count": null,
      "outputs": [
        {
          "output_type": "stream",
          "text": [
            "Mean Absolute Error: 0.2530661329986125\n",
            "Mean Squared Error: 0.10002910631468696\n",
            "Root Mean Squared Error: 0.3162737837929141\n"
          ],
          "name": "stdout"
        }
      ]
    },
    {
      "cell_type": "markdown",
      "metadata": {
        "id": "DmIAalEe_sv5"
      },
      "source": [
        "Elastic net's RMSE is slightly higher than linear's and ridge's and lasso's"
      ]
    },
    {
      "cell_type": "markdown",
      "metadata": {
        "id": "D6idvSrnSQ52"
      },
      "source": [
        "**Limitations of elastic net regression**  \n",
        "A limitation of Elastic net regression is that it can suffer from double shrinkage, which leads to increased bias and poor predictions."
      ]
    }
  ]
}